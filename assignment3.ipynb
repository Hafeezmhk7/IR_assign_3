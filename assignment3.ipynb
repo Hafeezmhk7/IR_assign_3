{
 "cells": [
  {
   "cell_type": "code",
   "execution_count": 1,
   "metadata": {
    "nbgrader": {
     "grade": false,
     "grade_id": "cell-b08a635cb01047dd",
     "locked": true,
     "schema_version": 3,
     "solution": false,
     "task": false
    }
   },
   "outputs": [],
   "source": [
    "from argparse import Namespace\n",
    "\n",
    "import numpy as np\n",
    "import torch\n",
    "import torch.nn.functional as F\n",
    "\n",
    "from torch.utils.data import DataLoader\n",
    "from torch import nn\n",
    "from tqdm.notebook import tqdm, trange\n",
    "\n",
    "from ltr.utils import seed"
   ]
  },
  {
   "cell_type": "markdown",
   "metadata": {},
   "source": [
    "# Assignment 3: Learning to Rank <a class=\"anchor\" id=\"top\"></a>\n",
    "\n",
    "[Back to top](#top)\n",
    "\n",
    "In this assignment, we will implement several Learning to Rank (LTR) algorithms. We will start with offline LTR algorithms, which are trained on a dataset of precomputed features. We will then move to counterfactual LTR algorithms, which are trained on a dataset of user interactions.\n",
    "\n",
    "Table of contents:\n",
    "- [Chapter 1: Offline LRT](#o_LTR)\n",
    "    - [Section 1: Feature Extraction](#feature_extraction)\n",
    "    - [Section 2: Pointwise LRT](#pointwise_LTR)\n",
    "    - [Section 3: Pairwise LRT](#pairwise_LTR)\n",
    "    - [Section 4: Pairwise - Speed-up RankNet](#pairwise_speedup)\n",
    "    - [Section 5: Listwise LRT](#listwise_LTR)\n",
    "- [Chapter 2: Counterfactual LRT](#c_LTR)\n",
    "    - [Section 1: Utils](#utils)\n",
    "    - [Section 2: ListNet](#listnet)\n",
    "    - [Section 3: Unbiased ListNet](#unbiased_listnet)"
   ]
  },
  {
   "cell_type": "markdown",
   "metadata": {
    "nbgrader": {
     "grade": false,
     "grade_id": "cell-ef602d983baa9d90",
     "locked": true,
     "schema_version": 3,
     "solution": false,
     "task": false
    }
   },
   "source": [
    "---\n",
    "# Chapter 1: Offline LTR <a class=\"anchor\" id=\"o_LTR\"></a>"
   ]
  },
  {
   "cell_type": "markdown",
   "metadata": {
    "nbgrader": {
     "grade": false,
     "grade_id": "cell-9978e0796016b961",
     "locked": true,
     "schema_version": 3,
     "solution": false,
     "task": false
    }
   },
   "source": [
    "A typical setup of learning to rank involves a feature vector constructed using a query-document pair, and a set of relevance judgements. In this assignment, you are given a small dataset that consists of number of queries with their corresponding list of documents. As the first step, you need to extract features for this dataset, and then use them in order to perform learninig-to-rank with different loss functions. In particular, the information about each of the files in this dataset is as follows:\n",
    "\n",
    "- `collection.tsv`: Each line consists of _document ID_ and the _document text_\n",
    "\n",
    "- `queries.tsv`: Each line consists of _query ID_ and the _query text_\n",
    "\n",
    "- `(train/dev/test)_pairs_graded.tsv`: Each line consists of _query ID_, _document ID_, _relevance score_; where relevance grade is an *ordinal* variable  with  5  grades,  for example: {`perfect`,`excellent`,`good`,`fair`,`bad`)."
   ]
  },
  {
   "cell_type": "markdown",
   "metadata": {
    "nbgrader": {
     "grade": false,
     "grade_id": "cell-d60b3e2cd8d41210",
     "locked": true,
     "schema_version": 3,
     "solution": false,
     "task": false
    }
   },
   "source": [
    "## Section 1: Feature Extraction <a class=\"anchor\" id=\"feature_extraction\"></a>\n",
    "\n",
    "[Back to top](#top)\n",
    "\n",
    "The following cell contains the path of raw dataset files and a file with the list of stop words. \n",
    "\n"
   ]
  },
  {
   "cell_type": "code",
   "execution_count": 2,
   "metadata": {},
   "outputs": [],
   "source": [
    "# IMPORTANT: DO NOT CHANGE ANY OF THE FILE PATHS.\n",
    "\n",
    "COLLECTION_PATH = \"./data/collection.tsv\"\n",
    "QUERIES_PATH = \"./data/queries.tsv\"\n",
    "TRAIN_PATH = \"./data/train_pairs_graded.tsv\"\n",
    "DEV_PATH = \"./data/dev_pairs_graded.tsv\"\n",
    "TEST_PATH = \"./data/test_pairs_graded.tsv\"\n",
    "STOP_WORDS_PATH = \"./data/common_words\""
   ]
  },
  {
   "cell_type": "markdown",
   "metadata": {},
   "source": [
    "First, you need to preprocess query and document texts and extract term based statistics for documents."
   ]
  },
  {
   "cell_type": "code",
   "execution_count": 3,
   "metadata": {},
   "outputs": [],
   "source": [
    "from ltr.dataset import Queries, Preprocess\n",
    "\n",
    "prp = Preprocess(STOP_WORDS_PATH)\n",
    "\n",
    "queries = Queries(prp)\n",
    "queries.preprocess_queries(QUERIES_PATH)"
   ]
  },
  {
   "cell_type": "markdown",
   "metadata": {},
   "source": [
    "In the next cell, you will use `Documents` class to extract document term-based stats, as this process might take longer, `if` statement and  `RESET` allows you to skip this step after the first time.\n",
    "\n",
    "Complete the implementation of `process_documents` function. you can find the implemenation in `ltr.dataset`."
   ]
  },
  {
   "cell_type": "code",
   "execution_count": 4,
   "metadata": {},
   "outputs": [],
   "source": [
    "# ToDo: Implement the function 'process_documents'\n",
    "\n",
    "from ltr.dataset import Documents"
   ]
  },
  {
   "cell_type": "code",
   "execution_count": 5,
   "metadata": {},
   "outputs": [
    {
     "name": "stderr",
     "output_type": "stream",
     "text": [
      "Processing documents: 96270it [00:44, 2158.19it/s]\n"
     ]
    }
   ],
   "source": [
    "# IMPORTANT: DO NOT CHANGE DOC_JSON PATH\n",
    "DOC_JSON = \"./datasets/doc.pickle\"\n",
    "import os\n",
    "import pickle\n",
    "\n",
    "RESET = True\n",
    "if os.path.exists(DOC_JSON) and not RESET:\n",
    "    with open(DOC_JSON, \"rb\") as file:\n",
    "        documents = pickle.load(file)\n",
    "else:\n",
    "    documents = Documents(prp)\n",
    "    documents.process_documents(COLLECTION_PATH)\n",
    "    with open(DOC_JSON, \"wb\") as file:\n",
    "        pickle.dump(documents, file)"
   ]
  },
  {
   "cell_type": "markdown",
   "metadata": {},
   "source": [
    "The class `FeatureExtraction` in `ltr.dataset` is defined for extracting features. This class includes a class `extract` method, that will extract predefined features for each query-document pair.\n",
    "\n",
    "The other class, `GenerateFeatures` is already implemented to allow for reading lines of `(train\\dev\\test)_pairs_graded.tsv` files one by one, extract the features, and write them in the `(train\\dev\\test)_pairs_graded.tsv`. \n",
    "\n",
    "The `FeatureExtraction` class has the following property: `features` that is a `dict` with feature names as the keys and their values as dictionary values. The list of features that you have to implement can be found in `__feature_list__` inside `ltr.dataset` and also listed in `README.md` file."
   ]
  },
  {
   "cell_type": "code",
   "execution_count": 6,
   "metadata": {},
   "outputs": [],
   "source": [
    "# IMPORTANT: DO NOT CHANGE `args` VALUES FOR BM25 CALCULATION\n",
    "N_FEATURES = 15\n",
    "\n",
    "from ltr.dataset import FeatureExtraction, GenerateFeatures\n",
    "\n",
    "feature_ex = FeatureExtraction({}, documents, queries)\n",
    "\n",
    "feat_gen = GenerateFeatures(feature_ex)\n",
    "args = {}\n",
    "args[\"k1\"] = 1.5\n",
    "args[\"b\"] = 0.75\n",
    "args[\"idf_smoothing\"] = 0.5"
   ]
  },
  {
   "cell_type": "markdown",
   "metadata": {},
   "source": [
    "**ToDo:**\n",
    "\n",
    "Implement method `extract` in `ltr.dataset.FeatureExtraction`. This method should return a dictionary with feature names as the keys and their values as dictionary values. This method is called inside `run` method of `GenerateFeatures` class. You can pass any required arguments through `args`. For instance, as defined in the previous cell, you can pass `k1` and `b` as BM25 arguments through `args`."
   ]
  },
  {
   "cell_type": "code",
   "execution_count": 7,
   "metadata": {},
   "outputs": [
    {
     "name": "stderr",
     "output_type": "stream",
     "text": [
      "96985it [01:13, 1324.35it/s]\n",
      "19500it [00:14, 1312.87it/s]\n",
      "48127it [00:36, 1322.17it/s]\n"
     ]
    }
   ],
   "source": [
    "feat_gen.run(TRAIN_PATH, TRAIN_PATH + \"g\", **args)\n",
    "feat_gen.run(DEV_PATH, DEV_PATH + \"g\", **args)\n",
    "feat_gen.run(TEST_PATH, TEST_PATH + \"g\", **args)"
   ]
  },
  {
   "cell_type": "markdown",
   "metadata": {},
   "source": [
    "The `DataSet` class will read the generated feature files for train/valid/test splits and you can use them for training LTR models with different ranking loss functions."
   ]
  },
  {
   "cell_type": "code",
   "execution_count": 8,
   "metadata": {},
   "outputs": [],
   "source": [
    "# IMPORTANT: DO NOT CHANGE THE `fold_paths`\n",
    "\n",
    "from ltr.dataset import DataSet\n",
    "\n",
    "fold_paths = [\"./data/\"]\n",
    "num_relevance_labels = 5\n",
    "num_nonzero_feat = N_FEATURES\n",
    "num_unique_feat = N_FEATURES\n",
    "data = DataSet(\n",
    "    \"ir1-2023\", fold_paths, num_relevance_labels, num_unique_feat, num_nonzero_feat\n",
    ")\n",
    "\n",
    "data = data.get_data_folds()[0]\n",
    "data.read_data()"
   ]
  },
  {
   "cell_type": "code",
   "execution_count": 9,
   "metadata": {
    "nbgrader": {
     "grade": false,
     "grade_id": "cell-2a79356db5683374",
     "locked": true,
     "schema_version": 3,
     "solution": false,
     "task": false
    }
   },
   "outputs": [
    {
     "name": "stdout",
     "output_type": "stream",
     "text": [
      "Number of features: 15\n",
      "Split: train\n",
      "\tNumber of queries 961\n",
      "\tNumber of docs 89506\n",
      "Split: validation\n",
      "\tNumber of queries 195\n",
      "\tNumber of docs 19500\n",
      "Split: test\n",
      "\tNumber of queries 483\n",
      "\tNumber of docs 48127\n"
     ]
    }
   ],
   "source": [
    "print(f\"Number of features: {data.num_features}\")\n",
    "# print some statistics\n",
    "for split in [\"train\", \"validation\", \"test\"]:\n",
    "    print(f\"Split: {split}\")\n",
    "    split = getattr(data, split)\n",
    "    print(f\"\\tNumber of queries {split.num_queries()}\")\n",
    "    print(f\"\\tNumber of docs {split.num_docs()}\")"
   ]
  },
  {
   "cell_type": "markdown",
   "metadata": {
    "nbgrader": {
     "grade": false,
     "grade_id": "cell-5b034476f52f28bb",
     "locked": true,
     "schema_version": 3,
     "solution": false,
     "task": false
    }
   },
   "source": [
    "### Section 1.2 Utility classes/methods\n",
    "\n",
    "You can use `LTRData` class in this assignment that is defined in `ltr.dataset`. "
   ]
  },
  {
   "cell_type": "code",
   "execution_count": 10,
   "metadata": {
    "nbgrader": {
     "grade": false,
     "grade_id": "cell-6be5d30fd0264dc3",
     "locked": true,
     "schema_version": 3,
     "solution": false,
     "task": false
    }
   },
   "outputs": [
    {
     "name": "stdout",
     "output_type": "stream",
     "text": [
      "torch.Size([32, 15]) torch.Size([32])\n"
     ]
    }
   ],
   "source": [
    "from ltr.dataset import LTRData\n",
    "\n",
    "## example\n",
    "train_dl = DataLoader(LTRData(data, \"train\"), batch_size=32, shuffle=True)\n",
    "\n",
    "# this is how you would use it to quickly iterate over the train/val/test sets\n",
    "# - (of course, without the break statement!)\n",
    "for x, y in train_dl:\n",
    "    print(x.size(), y.size())\n",
    "    break"
   ]
  },
  {
   "cell_type": "markdown",
   "metadata": {
    "nbgrader": {
     "grade": false,
     "grade_id": "cell-a79c0f58db4af010",
     "locked": true,
     "schema_version": 3,
     "solution": false,
     "task": false
    }
   },
   "source": [
    "You can use `evaluate_model` from `ltr.eval` to evaluate a model, on a given split."
   ]
  },
  {
   "cell_type": "code",
   "execution_count": 11,
   "metadata": {
    "nbgrader": {
     "grade": false,
     "grade_id": "cell-66bc9b1a832d14d0",
     "locked": true,
     "schema_version": 3,
     "solution": false,
     "task": false
    }
   },
   "outputs": [
    {
     "name": "stderr",
     "output_type": "stream",
     "text": [
      "                                                         "
     ]
    },
    {
     "name": "stdout",
     "output_type": "stream",
     "text": [
      "\"metric\": \"mean\" (\"standard deviation\")\n",
      "dcg: 5.7157 (8.09237)\n",
      "dcg@03: 0.1098 (0.58207)\n",
      "dcg@05: 0.1588 (0.95921)\n",
      "dcg@10: 0.3813 (1.37713)\n",
      "dcg@20: 0.8605 (2.59751)\n",
      "ndcg: 0.2130 (0.08956)\n",
      "ndcg@03: 0.0075 (0.05592)\n",
      "ndcg@05: 0.0075 (0.04985)\n",
      "ndcg@10: 0.0144 (0.05892)\n",
      "ndcg@20: 0.0265 (0.07337)\n",
      "precision@01: 0.0000 (0.00000)\n",
      "precision@03: 0.0000 (0.00000)\n",
      "precision@05: 0.0022 (0.02085)\n",
      "precision@10: 0.0066 (0.02482)\n",
      "precision@20: 0.0099 (0.03207)\n",
      "recall@01: 0.0000 (0.00000)\n",
      "recall@03: 0.0000 (0.00000)\n",
      "recall@05: 0.0009 (0.00878)\n",
      "recall@10: 0.0172 (0.09175)\n",
      "recall@20: 0.0504 (0.16511)\n",
      "relevant rank: 71.9138 (28.32820)\n",
      "relevant rank per query: 174.2527 (196.92011)\n"
     ]
    },
    {
     "name": "stderr",
     "output_type": "stream",
     "text": [
      "\r"
     ]
    }
   ],
   "source": [
    "from ltr.eval import evaluate_model\n",
    "\n",
    "## example\n",
    "# function that scores a given feature vector e.g a network\n",
    "net = nn.Linear(N_FEATURES, 1)\n",
    "\n",
    "\n",
    "# the evaluate method accepts a function. more specifically, a callable (such as pytorch modules)\n",
    "def notwork(x):\n",
    "    return net(x)\n",
    "\n",
    "\n",
    "# evaluate the function\n",
    "_ = evaluate_model(data, notwork, split=\"validation\", print_results=True)"
   ]
  },
  {
   "cell_type": "markdown",
   "metadata": {
    "nbgrader": {
     "grade": false,
     "grade_id": "cell-66ae15ed8cb736b5",
     "locked": true,
     "schema_version": 3,
     "solution": false,
     "task": false
    }
   },
   "source": [
    "The next cell is used to generate reproducible results:"
   ]
  },
  {
   "cell_type": "code",
   "execution_count": 12,
   "metadata": {
    "nbgrader": {
     "grade": false,
     "grade_id": "cell-df3d4a5ebf6dece6",
     "locked": true,
     "schema_version": 3,
     "solution": false,
     "task": false
    }
   },
   "outputs": [],
   "source": [
    "# use to get reproducible results\n",
    "from ltr.utils import seed"
   ]
  },
  {
   "cell_type": "markdown",
   "metadata": {
    "nbgrader": {
     "grade": false,
     "grade_id": "cell-a29483034efce729",
     "locked": true,
     "schema_version": 3,
     "solution": false,
     "task": false
    }
   },
   "source": [
    "## Section 2: Pointwise LTR <a class=\"anchor\" id=\"pointwise_LTR\"></a>\n",
    "\n",
    "[Back to top](#top)\n",
    "\n",
    "Let $x \\in \\mathbb{R}^d$ be an input feature vector, containing features for a query-document pair. Let $f: \\mathbb{R}^d \\rightarrow \\mathbb{R} $ be a function that maps this feature vector to a number $f(x)$ - either a relevance score (regression) or label (classification). The data $\\{x \\}$ are treated as feature vectors and the relevance judgements are treated as the target which we want to predict. \n",
    "\n",
    "In this section, you will implement a simple Pointwise model using either a regression loss, and use the train set to train this model to predict the relevance score. "
   ]
  },
  {
   "cell_type": "markdown",
   "metadata": {
    "nbgrader": {
     "grade": false,
     "grade_id": "cell-fdcb0b1bd78f6eda",
     "locked": true,
     "schema_version": 3,
     "solution": false,
     "task": false
    }
   },
   "source": [
    "### Section 2.1: Neural Model\n",
    "\n",
    "\n",
    "\\# ToDO:\n",
    "Implement the following methods for the Class `LTRModel` in `ltr.model`:\n",
    "  - `__init__`\n",
    "  - `forward`\n",
    "\n",
    "We will use this neural network to learn a LTR model with different loss functions(Pointwise, Pairwise, Listwise), using the relevance grades as the label. This network should have the following attribute:\n",
    "  - `layers`: $N_{FEATURES} (input) \\rightarrow 10 \\rightarrow 1$ where each layer is a linear layer (`nn.Linear`) with a ReLu activation function (`nn.ReLU`) in between the layers. Use the default weight initialization scheme. (Hint: use `nn.Sequential` for a one-line forward function!)"
   ]
  },
  {
   "cell_type": "code",
   "execution_count": 13,
   "metadata": {
    "nbgrader": {
     "grade": false,
     "grade_id": "cell-917f63ec6b575f59",
     "locked": true,
     "schema_version": 3,
     "solution": false,
     "task": false
    }
   },
   "outputs": [
    {
     "name": "stdout",
     "output_type": "stream",
     "text": [
      "LTRModel(\n",
      "  (layers): Sequential(\n",
      "    (0): Linear(in_features=15, out_features=10, bias=True)\n",
      "    (1): ReLU()\n",
      "    (2): Linear(in_features=10, out_features=1, bias=True)\n",
      "  )\n",
      ")\n"
     ]
    }
   ],
   "source": [
    "from ltr.model import LTRModel\n",
    "\n",
    "# check the network configuration - layer dimensions and configurations\n",
    "point_nn_reg = LTRModel(data.num_features)\n",
    "print(point_nn_reg)"
   ]
  },
  {
   "cell_type": "markdown",
   "metadata": {
    "nbgrader": {
     "grade": false,
     "grade_id": "cell-d683efd6ca306e81",
     "locked": true,
     "schema_version": 3,
     "solution": false,
     "task": false
    }
   },
   "source": [
    "\\#ToDo: Implement regression loss in `pointwise_loss` function. You can find the definition in `ltr.ltr`."
   ]
  },
  {
   "cell_type": "code",
   "execution_count": 14,
   "metadata": {
    "nbgrader": {
     "grade": true,
     "grade_id": "cell-24edd9d567aac9da",
     "locked": true,
     "points": 5,
     "schema_version": 3,
     "solution": false,
     "task": false
    }
   },
   "outputs": [],
   "source": [
    "from ltr.loss import pointwise_loss"
   ]
  },
  {
   "cell_type": "markdown",
   "metadata": {
    "nbgrader": {
     "grade": false,
     "grade_id": "cell-0977a61ec0cfa7ed",
     "locked": true,
     "schema_version": 3,
     "solution": false,
     "task": false
    }
   },
   "source": [
    "\\# ToDO:\n",
    "Implement `train_pointwise` function in `ltr.ltr` as a wrapper for training a pointwise LTR, that takes the model as input and trains the model."
   ]
  },
  {
   "cell_type": "code",
   "execution_count": 15,
   "metadata": {},
   "outputs": [],
   "source": [
    "from ltr.train import train_pointwise"
   ]
  },
  {
   "cell_type": "code",
   "execution_count": 16,
   "metadata": {},
   "outputs": [],
   "source": [
    "# Change this to test your code!\n",
    "pointwise_test_params = Namespace(epochs=1, lr=1e-3, batch_size=256, metrics={\"ndcg\"})"
   ]
  },
  {
   "cell_type": "code",
   "execution_count": 17,
   "metadata": {},
   "outputs": [
    {
     "name": "stderr",
     "output_type": "stream",
     "text": [
      "                                                         \r"
     ]
    }
   ],
   "source": [
    "# train a regression model for testing (we are only training for 1 epoch)\n",
    "met_reg = train_pointwise(point_nn_reg, pointwise_test_params, data)"
   ]
  },
  {
   "cell_type": "markdown",
   "metadata": {
    "nbgrader": {
     "grade": false,
     "grade_id": "cell-16ed543545863f61",
     "locked": true,
     "schema_version": 3,
     "solution": false,
     "task": false
    }
   },
   "source": [
    "The function `create_results` is defined in `ltr.utils` to create the results. It could be used  to generate your results:"
   ]
  },
  {
   "cell_type": "code",
   "execution_count": 18,
   "metadata": {
    "nbgrader": {
     "grade": false,
     "grade_id": "cell-cb8314e4e579adac",
     "locked": true,
     "schema_version": 3,
     "solution": false,
     "task": false
    },
    "scrolled": true
   },
   "outputs": [
    {
     "name": "stdout",
     "output_type": "stream",
     "text": [
      "Training Model\n"
     ]
    },
    {
     "name": "stderr",
     "output_type": "stream",
     "text": [
      "                                                         "
     ]
    },
    {
     "name": "stdout",
     "output_type": "stream",
     "text": [
      "\t\"precision@05\": (0.27082405345211585, 0.19633498883321762)\n",
      "\t\"ndcg\": (0.8018040431581639, 0.24835107254244906)\n",
      "\t\"recall@05\": (0.7670526999820856, 0.35526658149024076)\n"
     ]
    },
    {
     "name": "stderr",
     "output_type": "stream",
     "text": [
      "\r"
     ]
    }
   ],
   "source": [
    "# IMPORTANT DO NOT CHANGE seed, params, or any of the PATH variables\n",
    "from ltr.utils import create_results\n",
    "\n",
    "seed(42)\n",
    "\n",
    "params_regr = Namespace(\n",
    "    epochs=11, lr=1e-3, batch_size=1, metrics={\"ndcg\", \"precision@05\", \"recall@05\"}\n",
    ")\n",
    "\n",
    "pointwise_regression_model = LTRModel(data.num_features)\n",
    "pw_regr = create_results(\n",
    "    data,\n",
    "    pointwise_regression_model,\n",
    "    train_pointwise,\n",
    "    pointwise_regression_model,\n",
    "    \"./outputs/pointwise_res.json\",\n",
    "    params_regr,\n",
    ")\n",
    "\n",
    "torch.save(pointwise_regression_model.state_dict(), \"./outputs/pointwise_model\")"
   ]
  },
  {
   "cell_type": "markdown",
   "metadata": {
    "nbgrader": {
     "grade": false,
     "grade_id": "cell-e48bb26c37eacea9",
     "locked": true,
     "schema_version": 3,
     "solution": false,
     "task": false
    }
   },
   "source": [
    "## Section 3: Pairwise LTR <a class=\"anchor\" id=\"pairwise_LTR\"></a>\n",
    "\n",
    "[Back to top](#top)\n",
    "\n",
    "In this section,  you will learn and implement RankNet, a  pairwise learning to rank algorithm.\n",
    "\n",
    "For a given query, consider two documents $D_i$ and $D_j$ with two different ground truth relevance  labels,  with  feature  vectors $x_i$ and $x_j$ respectively.   The  RankNet  model,  just  like  the pointwise model, uses $f$ to predict scores i.e $s_i=f(x_i)$ and $s_j=f(x_j)$, but uses a different loss during  training. $D_i \\triangleright D_j$ denotes  the  event  that $D_i$ should  be  ranked  higher  than $D_j$.   The  two outputs $s_i$ and $s_j$ are mapped to a learned probability that $D_i \\triangleright D_j$: \n",
    "\n",
    "\n",
    "$$        P_{ij} = \\frac{1}{1 + e^{-\\sigma(s_i - s_j)}} $$\n",
    "  \n",
    "where $\\sigma$ is a parameter that determines the shape of the sigmoid. The loss of the RankNet model is the cross entropy cost function:\n",
    "\n",
    "$$        C = - \\bar{P}_{ij} \\log P_{ij} - (1-\\bar{P}_{ij}) \\log (1 - P_{ij}) $$\n",
    "\n",
    "As the name suggests, in the pairwise approach to LTR, we optimize a loss $l$ over pairs of documents. Let $S_{ij} \\in \\{0, \\pm1 \\}$ be equal to $1$ if the relevance of document $i$ is greater than document $j$; $-1$ if document $j$ is more relevant than document $i$; and 0 if they have the same relevance. This gives us $\\bar{P}_{ij} = \\frac{1}{2} (1 + S_{ij})$ so that $\\bar{P}_{ij} = 1$ if $D_i \\triangleright D_j$; $\\bar{P}_{ij} = 0$ if $D_j \\triangleright D_i$; and finally $\\bar{P}_{ij} = \\frac{1}{2}$ if the relevance is identical. This gives us:\n",
    "\n",
    "$$        C = \\frac{1}{2}(1- S_{ij})\\sigma(s_i - s_j) + \\log(1+ e^{-\\sigma(s_i - s_j)}) $$\n",
    "\n",
    "Now, consider a single query for which $n$ documents have been returned. Let the output scores of the ranker be $s_j$ ; $j=\\{1, \\dots, n \\}$, the model parameters be $w_k \\in \\mathbb{R}^W$, and let the set of pairs of document indices used for training be $\\mathcal{P}$. Then, the total cost is $C_T = \\sum_{i,j \\in \\mathcal{P}} C(s_i; s_j)$. \n",
    "\n",
    "\n",
    "\n",
    "- Implement RankNet. You should construct training samples by creating all possible pairs of documents for a given query and optimizing the loss above.\n",
    "- Use the same model architecture as in pointwise LTR."
   ]
  },
  {
   "cell_type": "markdown",
   "metadata": {
    "nbgrader": {
     "grade": false,
     "grade_id": "cell-5359ecd282448c2a",
     "locked": true,
     "schema_version": 3,
     "solution": false,
     "task": false
    }
   },
   "source": [
    "For the pairwise loss, we need to have a structured **dataloader** which detects the documents associated with a specific query. The class `QueryGroupedLTRData` is defined in `ltr.dataset` for this end."
   ]
  },
  {
   "cell_type": "code",
   "execution_count": 19,
   "metadata": {
    "nbgrader": {
     "grade": false,
     "grade_id": "cell-0009b5254fc5f2ad",
     "locked": true,
     "schema_version": 3,
     "solution": false,
     "task": false
    }
   },
   "outputs": [],
   "source": [
    "from ltr.dataset import QueryGroupedLTRData"
   ]
  },
  {
   "cell_type": "code",
   "execution_count": 20,
   "metadata": {},
   "outputs": [
    {
     "name": "stdout",
     "output_type": "stream",
     "text": [
      "Query 300 has 100 query-document pairs\n",
      "Shape of features for Query 300: torch.Size([100, 15])\n",
      "Shape of labels for Query 300: torch.Size([100])\n"
     ]
    }
   ],
   "source": [
    "## example\n",
    "train_data = QueryGroupedLTRData(data, \"train\")\n",
    "# this is how you would use it to quickly iterate over the train/val/test sets\n",
    "\n",
    "q_i = 300\n",
    "features_i, labels_i = train_data[q_i]\n",
    "print(f\"Query {q_i} has {len(features_i)} query-document pairs\")\n",
    "print(f\"Shape of features for Query {q_i}: {features_i.size()}\")\n",
    "print(f\"Shape of labels for Query {q_i}: {labels_i.size()}\")"
   ]
  },
  {
   "cell_type": "markdown",
   "metadata": {
    "nbgrader": {
     "grade": false,
     "grade_id": "cell-acdb1bfcd2ec582e",
     "locked": true,
     "schema_version": 3,
     "solution": false,
     "task": false
    }
   },
   "source": [
    "#ToDO:\n",
    "\n",
    "First, implement the pairwaise loss in `pairwise_loss` function in `ltr.loss` as described above.\n",
    "Then, implement `train_pairwise` method in `ltr.train`."
   ]
  },
  {
   "cell_type": "code",
   "execution_count": 21,
   "metadata": {
    "nbgrader": {
     "grade": true,
     "grade_id": "cell-a85b3e6ab896fd79",
     "locked": true,
     "points": 15,
     "schema_version": 3,
     "solution": false,
     "task": false
    }
   },
   "outputs": [],
   "source": [
    "from ltr.loss import pairwise_loss\n",
    "from ltr.train import train_pairwise"
   ]
  },
  {
   "cell_type": "markdown",
   "metadata": {},
   "source": [
    "Normal training with pairwise loss requires a lot of time, you can investigate normal training of LTRModel with pairwise loss by uncommenting the following cell."
   ]
  },
  {
   "cell_type": "code",
   "execution_count": 22,
   "metadata": {},
   "outputs": [
    {
     "name": "stdout",
     "output_type": "stream",
     "text": [
      "Training Model\n"
     ]
    },
    {
     "name": "stderr",
     "output_type": "stream",
     "text": [
      "                                                                 \r"
     ]
    },
    {
     "name": "stdout",
     "output_type": "stream",
     "text": [
      "\t\"precision@05\": (0.022271714922048998, 0.06834477724264194)\n",
      "\t\"ndcg\": (0.2586753070000359, 0.11710336579062591)\n",
      "\t\"recall@05\": (0.05074614600358082, 0.1836641704650819)\n"
     ]
    },
    {
     "data": {
      "text/plain": [
       "{'metrics': {'metrics_val': [{'dcg': (6.83485131682982, 9.017487160810688),\n",
       "    'dcg@03': (0.6002383983516557, 2.570771551062886),\n",
       "    'dcg@05': (0.9141845211521803, 2.9751361509373844),\n",
       "    'dcg@10': (1.5748350955861299, 3.843469484749643),\n",
       "    'dcg@20': (2.375785568194663, 4.3529386244250725),\n",
       "    'ndcg': (0.2614092807845849, 0.12861039232282684),\n",
       "    'ndcg@03': (0.026338036487591063, 0.12486376335210772),\n",
       "    'ndcg@05': (0.038950654880610475, 0.13642963247638804),\n",
       "    'ndcg@10': (0.06080245604936299, 0.1481090602299391),\n",
       "    'ndcg@20': (0.09474876196621526, 0.1537930885998806),\n",
       "    'precision@01': (0.02197802197802198, 0.14661169301237728),\n",
       "    'precision@03': (0.016483516483516484, 0.07226893647234013),\n",
       "    'precision@05': (0.020879120879120878, 0.06796327954314825),\n",
       "    'precision@10': (0.026373626373626377, 0.06260843750876534),\n",
       "    'precision@20': (0.02445054945054945, 0.044083777319724175),\n",
       "    'recall@01': (0.01510989010989011, 0.11170378318083503),\n",
       "    'recall@03': (0.02166807551422936, 0.11854635532386916),\n",
       "    'recall@05': (0.04619579138809908, 0.18627208758124325),\n",
       "    'recall@10': (0.10714171359775755, 0.267004227276504),\n",
       "    'recall@20': (0.2171112312595829, 0.35371294035027034),\n",
       "    'relevant rank': (51.42857142857143, 29.30997833387075),\n",
       "    'relevant rank per query': (124.61538461538461, 163.77217284532327)}],\n",
       "  'metrics_train': [{'dcg': (20.427329337389093, 21.3916407456868),\n",
       "    'dcg@03': (2.479672067552432, 5.066202517438161),\n",
       "    'dcg@05': (3.5173662513421338, 5.903188403810313),\n",
       "    'dcg@10': (5.096339730881175, 7.273602842680888),\n",
       "    'dcg@20': (7.777430179956733, 9.569161059899978),\n",
       "    'ndcg': (0.38668448316316334, 0.15753627006284712),\n",
       "    'ndcg@03': (0.08701780324112612, 0.178838889633398),\n",
       "    'ndcg@05': (0.09857873303962449, 0.1698966677841525),\n",
       "    'ndcg@10': (0.11591629023572352, 0.16595763559160207),\n",
       "    'ndcg@20': (0.15871278209748066, 0.169462756838911),\n",
       "    'precision@01': (0.08945686900958466, 0.28540206305593985),\n",
       "    'precision@03': (0.08413205537806177, 0.17579951032182295),\n",
       "    'precision@05': (0.08690095846645367, 0.14546346111234654),\n",
       "    'precision@10': (0.07806176783812568, 0.11383559889408715),\n",
       "    'precision@20': (0.07790202342917998, 0.09550029125378916),\n",
       "    'recall@01': (0.017482975053541044, 0.08533302435493426),\n",
       "    'recall@03': (0.049695440314194685, 0.1586443181152458),\n",
       "    'recall@05': (0.08023821393378767, 0.19090460191684747),\n",
       "    'recall@10': (0.1303414507997688, 0.22456054738240833),\n",
       "    'recall@20': (0.25259413468477326, 0.2826631241828269),\n",
       "    'relevant rank': (47.5093710292249, 28.551813862288316),\n",
       "    'relevant rank per query': (318.55058572949946, 364.3087204833432)}]},\n",
       " 'test_metrics': {'dcg': (6.696563037206747, 9.002623424828995),\n",
       "  'dcg@03': (0.6074306166888597, 2.37897249215867),\n",
       "  'dcg@05': (0.8967444382544659, 2.6668875000290138),\n",
       "  'dcg@10': (1.482869554785983, 3.3707235188081124),\n",
       "  'dcg@20': (2.3310100263785576, 4.552321191120366),\n",
       "  'ndcg': (0.2586753070000359, 0.11710336579062591),\n",
       "  'ndcg@03': (0.027353240135782594, 0.11049894581094774),\n",
       "  'ndcg@05': (0.03847592947536685, 0.11803674943789416),\n",
       "  'ndcg@10': (0.05881078381316508, 0.13132597678777713),\n",
       "  'ndcg@20': (0.08819206798406468, 0.14081314129987735),\n",
       "  'precision@01': (0.0200445434298441, 0.14015263004500914),\n",
       "  'precision@03': (0.02078693392724573, 0.08652592299529897),\n",
       "  'precision@05': (0.022271714922048998, 0.06834477724264194),\n",
       "  'precision@10': (0.02605790645879733, 0.05866219201124037),\n",
       "  'precision@20': (0.025612472160356347, 0.049054684502264495),\n",
       "  'recall@01': (0.009052953029764244, 0.07961020945800883),\n",
       "  'recall@03': (0.02476416584565412, 0.12729332193033438),\n",
       "  'recall@05': (0.05074614600358082, 0.1836641704650819),\n",
       "  'recall@10': (0.10907170583903193, 0.2624420007784885),\n",
       "  'recall@20': (0.20740350635870092, 0.3391293315879853),\n",
       "  'relevant rank': (49.93827160493827, 29.548051673442213),\n",
       "  'relevant rank per query': (117.11581291759465, 152.83859033068956)},\n",
       " 'test_query_level_metrics': {'precision@05': [0.0,\n",
       "   0.0,\n",
       "   0.0,\n",
       "   0.0,\n",
       "   0.0,\n",
       "   0.0,\n",
       "   0.0,\n",
       "   0.0,\n",
       "   0.0,\n",
       "   0.0,\n",
       "   0.0,\n",
       "   0.2,\n",
       "   0.2,\n",
       "   0.0,\n",
       "   0.0,\n",
       "   0.0,\n",
       "   0.0,\n",
       "   0.0,\n",
       "   0.0,\n",
       "   0.0,\n",
       "   0.0,\n",
       "   0.0,\n",
       "   0.0,\n",
       "   0.0,\n",
       "   0.0,\n",
       "   0.0,\n",
       "   0.0,\n",
       "   0.0,\n",
       "   0.0,\n",
       "   0.0,\n",
       "   0.0,\n",
       "   0.0,\n",
       "   0.2,\n",
       "   0.0,\n",
       "   0.0,\n",
       "   0.0,\n",
       "   0.0,\n",
       "   0.0,\n",
       "   0.0,\n",
       "   0.0,\n",
       "   0.0,\n",
       "   0.0,\n",
       "   0.0,\n",
       "   0.0,\n",
       "   0.0,\n",
       "   0.0,\n",
       "   0.0,\n",
       "   0.2,\n",
       "   0.0,\n",
       "   0.0,\n",
       "   0.0,\n",
       "   0.0,\n",
       "   0.0,\n",
       "   0.0,\n",
       "   0.0,\n",
       "   0.0,\n",
       "   0.0,\n",
       "   0.0,\n",
       "   0.0,\n",
       "   0.0,\n",
       "   0.0,\n",
       "   0.0,\n",
       "   0.0,\n",
       "   0.0,\n",
       "   0.2,\n",
       "   0.0,\n",
       "   0.0,\n",
       "   0.0,\n",
       "   0.2,\n",
       "   0.0,\n",
       "   0.0,\n",
       "   0.0,\n",
       "   0.0,\n",
       "   0.2,\n",
       "   0.6,\n",
       "   0.0,\n",
       "   0.0,\n",
       "   0.0,\n",
       "   0.0,\n",
       "   0.0,\n",
       "   0.0,\n",
       "   0.0,\n",
       "   0.2,\n",
       "   0.0,\n",
       "   0.0,\n",
       "   0.0,\n",
       "   0.0,\n",
       "   0.0,\n",
       "   0.0,\n",
       "   0.0,\n",
       "   0.0,\n",
       "   0.0,\n",
       "   0.0,\n",
       "   0.0,\n",
       "   0.2,\n",
       "   0.0,\n",
       "   0.0,\n",
       "   0.0,\n",
       "   0.0,\n",
       "   0.0,\n",
       "   0.2,\n",
       "   0.0,\n",
       "   0.0,\n",
       "   0.0,\n",
       "   0.2,\n",
       "   0.0,\n",
       "   0.0,\n",
       "   0.0,\n",
       "   0.0,\n",
       "   0.0,\n",
       "   0.0,\n",
       "   0.0,\n",
       "   0.0,\n",
       "   0.0,\n",
       "   0.0,\n",
       "   0.0,\n",
       "   0.0,\n",
       "   0.0,\n",
       "   0.0,\n",
       "   0.0,\n",
       "   0.0,\n",
       "   0.0,\n",
       "   0.0,\n",
       "   0.0,\n",
       "   0.0,\n",
       "   0.0,\n",
       "   0.0,\n",
       "   0.0,\n",
       "   0.0,\n",
       "   0.0,\n",
       "   0.0,\n",
       "   0.0,\n",
       "   0.0,\n",
       "   0.0,\n",
       "   0.0,\n",
       "   0.0,\n",
       "   0.2,\n",
       "   0.0,\n",
       "   0.0,\n",
       "   0.0,\n",
       "   0.0,\n",
       "   0.0,\n",
       "   0.0,\n",
       "   0.0,\n",
       "   0.0,\n",
       "   0.0,\n",
       "   0.0,\n",
       "   0.2,\n",
       "   0.0,\n",
       "   0.0,\n",
       "   0.0,\n",
       "   0.0,\n",
       "   0.0,\n",
       "   0.0,\n",
       "   0.2,\n",
       "   0.0,\n",
       "   0.0,\n",
       "   0.0,\n",
       "   0.0,\n",
       "   0.0,\n",
       "   0.0,\n",
       "   0.0,\n",
       "   0.0,\n",
       "   0.0,\n",
       "   0.0,\n",
       "   0.0,\n",
       "   0.0,\n",
       "   0.0,\n",
       "   0.0,\n",
       "   0.0,\n",
       "   0.0,\n",
       "   0.0,\n",
       "   0.0,\n",
       "   0.0,\n",
       "   0.0,\n",
       "   0.0,\n",
       "   0.2,\n",
       "   0.0,\n",
       "   0.0,\n",
       "   0.0,\n",
       "   0.0,\n",
       "   0.0,\n",
       "   0.0,\n",
       "   0.0,\n",
       "   0.0,\n",
       "   0.0,\n",
       "   0.0,\n",
       "   0.0,\n",
       "   0.0,\n",
       "   0.2,\n",
       "   0.0,\n",
       "   0.2,\n",
       "   0.2,\n",
       "   0.0,\n",
       "   0.2,\n",
       "   0.0,\n",
       "   0.0,\n",
       "   0.0,\n",
       "   0.0,\n",
       "   0.0,\n",
       "   0.0,\n",
       "   0.2,\n",
       "   0.0,\n",
       "   0.0,\n",
       "   0.0,\n",
       "   0.0,\n",
       "   0.0,\n",
       "   0.0,\n",
       "   0.0,\n",
       "   0.0,\n",
       "   0.0,\n",
       "   0.0,\n",
       "   0.2,\n",
       "   0.0,\n",
       "   0.0,\n",
       "   0.0,\n",
       "   0.0,\n",
       "   0.0,\n",
       "   0.0,\n",
       "   0.2,\n",
       "   0.0,\n",
       "   0.0,\n",
       "   0.2,\n",
       "   0.0,\n",
       "   0.0,\n",
       "   0.0,\n",
       "   0.0,\n",
       "   0.0,\n",
       "   0.0,\n",
       "   0.0,\n",
       "   0.0,\n",
       "   0.0,\n",
       "   0.0,\n",
       "   0.0,\n",
       "   0.0,\n",
       "   0.0,\n",
       "   0.0,\n",
       "   0.0,\n",
       "   0.0,\n",
       "   0.0,\n",
       "   0.2,\n",
       "   0.0,\n",
       "   0.0,\n",
       "   0.0,\n",
       "   0.0,\n",
       "   0.0,\n",
       "   0.0,\n",
       "   0.0,\n",
       "   0.0,\n",
       "   0.2,\n",
       "   0.0,\n",
       "   0.0,\n",
       "   0.0,\n",
       "   0.0,\n",
       "   0.0,\n",
       "   0.0,\n",
       "   0.0,\n",
       "   0.0,\n",
       "   0.2,\n",
       "   0.0,\n",
       "   0.0,\n",
       "   0.0,\n",
       "   0.0,\n",
       "   0.0,\n",
       "   0.0,\n",
       "   0.0,\n",
       "   0.0,\n",
       "   0.0,\n",
       "   0.0,\n",
       "   0.0,\n",
       "   0.0,\n",
       "   0.0,\n",
       "   0.0,\n",
       "   0.0,\n",
       "   0.0,\n",
       "   0.0,\n",
       "   0.0,\n",
       "   0.0,\n",
       "   0.2,\n",
       "   0.0,\n",
       "   0.0,\n",
       "   0.0,\n",
       "   0.2,\n",
       "   0.0,\n",
       "   0.0,\n",
       "   0.0,\n",
       "   0.0,\n",
       "   0.2,\n",
       "   0.0,\n",
       "   0.0,\n",
       "   0.0,\n",
       "   0.0,\n",
       "   0.0,\n",
       "   0.0,\n",
       "   0.0,\n",
       "   0.0,\n",
       "   0.0,\n",
       "   0.0,\n",
       "   0.0,\n",
       "   0.0,\n",
       "   0.0,\n",
       "   0.0,\n",
       "   0.0,\n",
       "   0.0,\n",
       "   0.0,\n",
       "   0.0,\n",
       "   0.0,\n",
       "   0.0,\n",
       "   0.2,\n",
       "   0.0,\n",
       "   0.0,\n",
       "   0.0,\n",
       "   0.0,\n",
       "   0.0,\n",
       "   0.0,\n",
       "   0.0,\n",
       "   0.0,\n",
       "   0.0,\n",
       "   0.0,\n",
       "   0.0,\n",
       "   0.0,\n",
       "   0.0,\n",
       "   0.0,\n",
       "   0.0,\n",
       "   0.0,\n",
       "   0.0,\n",
       "   0.0,\n",
       "   0.0,\n",
       "   0.0,\n",
       "   0.0,\n",
       "   0.0,\n",
       "   0.0,\n",
       "   0.0,\n",
       "   0.0,\n",
       "   0.0,\n",
       "   0.0,\n",
       "   0.0,\n",
       "   0.0,\n",
       "   0.0,\n",
       "   0.0,\n",
       "   0.0,\n",
       "   0.0,\n",
       "   0.0,\n",
       "   0.0,\n",
       "   0.0,\n",
       "   0.0,\n",
       "   0.0,\n",
       "   0.2,\n",
       "   0.0,\n",
       "   0.0,\n",
       "   0.0,\n",
       "   0.0,\n",
       "   0.0,\n",
       "   0.0,\n",
       "   0.0,\n",
       "   0.0,\n",
       "   0.0,\n",
       "   0.0,\n",
       "   0.0,\n",
       "   0.0,\n",
       "   0.0,\n",
       "   0.2,\n",
       "   0.0,\n",
       "   0.0,\n",
       "   0.0,\n",
       "   0.0,\n",
       "   0.2,\n",
       "   0.0,\n",
       "   0.0,\n",
       "   0.0,\n",
       "   0.0,\n",
       "   0.0,\n",
       "   0.0,\n",
       "   0.0,\n",
       "   0.0,\n",
       "   0.0,\n",
       "   0.0,\n",
       "   0.0,\n",
       "   0.0,\n",
       "   0.0,\n",
       "   0.0,\n",
       "   0.2,\n",
       "   0.0,\n",
       "   0.2,\n",
       "   0.0,\n",
       "   0.2,\n",
       "   0.0,\n",
       "   0.0,\n",
       "   0.0,\n",
       "   0.2,\n",
       "   0.0,\n",
       "   0.0,\n",
       "   0.0,\n",
       "   0.0,\n",
       "   0.0,\n",
       "   0.0,\n",
       "   0.0,\n",
       "   0.0,\n",
       "   0.0,\n",
       "   0.0,\n",
       "   0.0,\n",
       "   0.0,\n",
       "   0.4,\n",
       "   0.0,\n",
       "   0.0,\n",
       "   0.2,\n",
       "   0.0,\n",
       "   0.0,\n",
       "   0.0,\n",
       "   0.0,\n",
       "   0.0,\n",
       "   0.0,\n",
       "   0.0,\n",
       "   0.0,\n",
       "   0.0,\n",
       "   0.0,\n",
       "   0.0,\n",
       "   0.0,\n",
       "   0.0,\n",
       "   0.0,\n",
       "   0.2,\n",
       "   0.0,\n",
       "   0.0,\n",
       "   0.0,\n",
       "   0.0,\n",
       "   0.2,\n",
       "   0.0,\n",
       "   0.2,\n",
       "   0.0,\n",
       "   0.0,\n",
       "   0.2,\n",
       "   0.0,\n",
       "   0.0,\n",
       "   0.0,\n",
       "   0.0,\n",
       "   0.0,\n",
       "   0.0,\n",
       "   0.2,\n",
       "   0.2,\n",
       "   0.0,\n",
       "   0.0,\n",
       "   0.0,\n",
       "   0.0,\n",
       "   0.2,\n",
       "   0.0,\n",
       "   0.0,\n",
       "   0.0,\n",
       "   0.0,\n",
       "   0.0],\n",
       "  'ndcg': [0.17070727966372015,\n",
       "   0.19195872000656014,\n",
       "   0.313844468634657,\n",
       "   0.25984971697854686,\n",
       "   0.17438880049974795,\n",
       "   0.16005307325482135,\n",
       "   0.18943650934372816,\n",
       "   0.4112536798180467,\n",
       "   0.322431289854321,\n",
       "   0.25,\n",
       "   0.2015144783322958,\n",
       "   0.16741617340599507,\n",
       "   0.538169275058603,\n",
       "   0.41614471010512527,\n",
       "   0.19195872000656014,\n",
       "   0.17144160057391347,\n",
       "   0.15643778834207153,\n",
       "   0.16988874726169798,\n",
       "   0.4112204514222567,\n",
       "   0.3911719826094037,\n",
       "   0.3308327587946064,\n",
       "   0.3001403760299042,\n",
       "   0.22878826082298337,\n",
       "   0.24757079177577396,\n",
       "   0.48279810526065187,\n",
       "   0.16293940554335967,\n",
       "   0.18428883314870617,\n",
       "   0.21265255615773856,\n",
       "   0.20235680498225492,\n",
       "   0.16794877895704194,\n",
       "   0.16966926622003467,\n",
       "   0.3115129380605004,\n",
       "   0.236665964292674,\n",
       "   0.5211968336849931,\n",
       "   0.1959902612744755,\n",
       "   0.231607248984433,\n",
       "   0.18942474555593405,\n",
       "   0.19287037952510344,\n",
       "   0.18298497802129673,\n",
       "   0.17478739296178947,\n",
       "   0.17458343004804494,\n",
       "   0.4325445612383155,\n",
       "   0.1729696904450771,\n",
       "   0.16569134150622994,\n",
       "   0.18772550064381505,\n",
       "   0.35827886914374335,\n",
       "   0.2111298387078805,\n",
       "   0.15643778834207153,\n",
       "   0.27894294565112987,\n",
       "   0.38685280723454163,\n",
       "   0.26383185832490746,\n",
       "   0.3390708766563779,\n",
       "   0.20783118049263105,\n",
       "   0.279925761009583,\n",
       "   0.19342640361727081,\n",
       "   0.15186115333086322,\n",
       "   0.16987550977561194,\n",
       "   0.32671229306048255,\n",
       "   0.19195872000656014,\n",
       "   0.17699414392610657,\n",
       "   0.22423077523060334,\n",
       "   0.2695253612784435,\n",
       "   0.22787594639720454,\n",
       "   0.26264953503719357,\n",
       "   0.2557837016598736,\n",
       "   0.31656040695912896,\n",
       "   0.16293731491690872,\n",
       "   0.16794877895704194,\n",
       "   0.705024476079619,\n",
       "   0.318874812530423,\n",
       "   0.29020893856756425,\n",
       "   0.24536014412613213,\n",
       "   0.4014834769774459,\n",
       "   0.36202071930675733,\n",
       "   0.18221552367972638,\n",
       "   0.16207652439312228,\n",
       "   0.3010299956639812,\n",
       "   0.2987097949296812,\n",
       "   0.3923270471713864,\n",
       "   0.6322679164568782,\n",
       "   0.2559580248098155,\n",
       "   0.3019713601230498,\n",
       "   0.20358091372047318,\n",
       "   0.3465590359704971,\n",
       "   0.29794493361463104,\n",
       "   0.2834070833587019,\n",
       "   0.16544255391905832,\n",
       "   0.3614519622301626,\n",
       "   0.21160148539838974,\n",
       "   0.17542506358195453,\n",
       "   0.21024127567413015,\n",
       "   0.2826624355485016,\n",
       "   0.2289448249923894,\n",
       "   0.26709418195467305,\n",
       "   0.2748838297599758,\n",
       "   0.2555915263291922,\n",
       "   0.2574093359744563,\n",
       "   0.2,\n",
       "   0.1705353827147636,\n",
       "   0.16999161628691403,\n",
       "   0.41969178196663287,\n",
       "   0.16929380759878143,\n",
       "   0.18887298346418963,\n",
       "   0.2382334528269918,\n",
       "   0.18229193917818026,\n",
       "   0.21074686729761447,\n",
       "   0.5261756368911542,\n",
       "   0.1646989537971771,\n",
       "   0.2774196369234524,\n",
       "   0.2567333925396967,\n",
       "   0.3500266443967082,\n",
       "   0.46166546413718995,\n",
       "   0.3035386530595373,\n",
       "   0.17376534287144002,\n",
       "   0.21653633933449626,\n",
       "   0.26875270899482745,\n",
       "   0.1585925017494164,\n",
       "   0.3417419832747363,\n",
       "   0.41787133395941406,\n",
       "   0.2890648263178879,\n",
       "   0.31221317216275063,\n",
       "   0.1977103184215743,\n",
       "   0.19606615102647254,\n",
       "   0.2559580248098155,\n",
       "   0.2862627521835916,\n",
       "   0.19070283460367032,\n",
       "   0.2590524394073382,\n",
       "   0.2,\n",
       "   0.2567731209960811,\n",
       "   0.15117821092177644,\n",
       "   0.15084420062289414,\n",
       "   0.32924439515093396,\n",
       "   0.2558513681702168,\n",
       "   0.20220401710831007,\n",
       "   0.16310668592772465,\n",
       "   0.3123970696131991,\n",
       "   0.15643778834207153,\n",
       "   0.1887461212976541,\n",
       "   0.2129990533826,\n",
       "   0.15561139140249397,\n",
       "   0.3010299956639812,\n",
       "   0.3197813793833823,\n",
       "   0.20515805619169716,\n",
       "   0.19410007909956595,\n",
       "   0.35718136242753445,\n",
       "   0.3545711854071607,\n",
       "   0.15773243839286438,\n",
       "   0.1965616322328226,\n",
       "   0.30412479365690237,\n",
       "   0.20230995231781437,\n",
       "   0.2766721620372735,\n",
       "   0.16260831227163416,\n",
       "   0.47579695615111534,\n",
       "   0.17165768724029776,\n",
       "   0.17144160057391347,\n",
       "   0.5026065186757674,\n",
       "   0.2275958636001486,\n",
       "   0.24264450509773725,\n",
       "   0.20801459767650948,\n",
       "   0.19956685863468718,\n",
       "   0.27062204566455383,\n",
       "   0.2858962313827191,\n",
       "   0.38285643213111387,\n",
       "   0.2530505164395601,\n",
       "   0.3848611062805834,\n",
       "   0.4763667898240058,\n",
       "   0.18665241123894338,\n",
       "   0.2945961052771997,\n",
       "   0.39844548582358597,\n",
       "   0.27023815442731974,\n",
       "   0.17070727966372012,\n",
       "   0.22572920884397768,\n",
       "   0.18428883314870617,\n",
       "   0.27023815442731974,\n",
       "   0.26414632392266174,\n",
       "   0.33804962456735077,\n",
       "   0.307599497576643,\n",
       "   0.22644993752164588,\n",
       "   0.2072182306421958,\n",
       "   0.16485085672216038,\n",
       "   0.18208790046993825,\n",
       "   0.27090909170331107,\n",
       "   0.16730017881017412,\n",
       "   0.16155546744299637,\n",
       "   0.16485085672216038,\n",
       "   0.16791226601636308,\n",
       "   0.3573170646550056,\n",
       "   0.22401364236163293,\n",
       "   0.2911702620416142,\n",
       "   0.29531679495170465,\n",
       "   0.23244763847125724,\n",
       "   0.1973630352135794,\n",
       "   0.16485085672216038,\n",
       "   0.3109977065637783,\n",
       "   0.20508793077485124,\n",
       "   0.1701050835139772,\n",
       "   0.3419076515717471,\n",
       "   0.17219543379409813,\n",
       "   0.3333333333333333,\n",
       "   0.6340095242450253,\n",
       "   0.2614485732710712,\n",
       "   1.0,\n",
       "   0.40669807228676075,\n",
       "   0.15773243839286438,\n",
       "   0.38685280723454163,\n",
       "   0.17542506358195453,\n",
       "   0.19590060693355849,\n",
       "   0.36524104767278687,\n",
       "   0.16104477175644444,\n",
       "   0.30897264482108255,\n",
       "   0.1729696904450771,\n",
       "   0.18208790046993825,\n",
       "   0.31948701352634296,\n",
       "   0.4556051495874604,\n",
       "   0.3010299956639812,\n",
       "   0.18920035951687003,\n",
       "   0.15366188628986424,\n",
       "   0.29643902685159607,\n",
       "   0.20902375455101935,\n",
       "   0.15329048865267808,\n",
       "   0.2594549643622304,\n",
       "   0.24492318020552095,\n",
       "   0.24465054211822604,\n",
       "   0.19195872000656014,\n",
       "   0.15403922195426356,\n",
       "   0.6119948828630853,\n",
       "   0.16060930066828313,\n",
       "   0.25789440039153677,\n",
       "   0.15957141566993818,\n",
       "   0.28096090140025753,\n",
       "   0.17070727966372015,\n",
       "   0.1686130986895011,\n",
       "   0.20430660082448604,\n",
       "   1.0,\n",
       "   0.15561139140249397,\n",
       "   0.2387817569763145,\n",
       "   0.3492437521694219,\n",
       "   0.1692131131241356,\n",
       "   0.375363558909252,\n",
       "   0.18493219079220263,\n",
       "   0.2550863369520098,\n",
       "   0.3905867781654941,\n",
       "   0.22808201018871768,\n",
       "   0.16956860785753217,\n",
       "   0.2574457574225172,\n",
       "   0.18208790046993825,\n",
       "   0.18933968306224597,\n",
       "   0.27037370357606344,\n",
       "   0.38160499643396634,\n",
       "   0.2753753793437257,\n",
       "   0.298457200011792,\n",
       "   0.15019048322368797,\n",
       "   0.21810429198553155,\n",
       "   0.19276611256613424,\n",
       "   0.35453273342639224,\n",
       "   0.2276650472844292,\n",
       "   0.15403922195426356,\n",
       "   0.3633000535517288,\n",
       "   0.33796169771804013,\n",
       "   0.15329048865267808,\n",
       "   0.20989946346923066,\n",
       "   0.2587361361272081,\n",
       "   0.1505149978319906,\n",
       "   0.3907020862562592,\n",
       "   0.45277362714617275,\n",
       "   0.18790182470910757,\n",
       "   0.1716428505596623,\n",
       "   0.4372367254717594,\n",
       "   0.18790182470910757,\n",
       "   0.2103099178571525,\n",
       "   0.3405593493337617,\n",
       "   0.2774906346360771,\n",
       "   0.20833170556329925,\n",
       "   0.2639465169948171,\n",
       "   0.21426744272652964,\n",
       "   0.21533827903669653,\n",
       "   0.15117821092177644,\n",
       "   0.16929380759878143,\n",
       "   0.272243652174279,\n",
       "   0.3726563156437819,\n",
       "   0.29660378370750684,\n",
       "   0.53795905391872,\n",
       "   0.1505149978319906,\n",
       "   0.3122322097166457,\n",
       "   0.18546783199517727,\n",
       "   0.5075329646776146,\n",
       "   0.31406685650287774,\n",
       "   0.21064408568871668,\n",
       "   0.22424382421757544,\n",
       "   0.15256487060115928,\n",
       "   0.15602106502222501,\n",
       "   0.1572932473495469,\n",
       "   0.20126269425099888,\n",
       "   0.26116698112975184,\n",
       "   0.3211939428100692,\n",
       "   0.19742528720306576,\n",
       "   0.2504506497727525,\n",
       "   0.2518666970578172,\n",
       "   0.3186764996803181,\n",
       "   0.1548123827357682,\n",
       "   0.3538175292977355,\n",
       "   0.1834257527736763,\n",
       "   0.1965616322328226,\n",
       "   0.16104477175644444,\n",
       "   0.1905514124267734,\n",
       "   0.4570681925092818,\n",
       "   0.20371304934647466,\n",
       "   0.1846647744917342,\n",
       "   0.20424806494470968,\n",
       "   0.15117821092177644,\n",
       "   0.6309297535714575,\n",
       "   0.1810425967800402,\n",
       "   0.24023001876471578,\n",
       "   0.2509623244344701,\n",
       "   0.32434896891022724,\n",
       "   0.15602106502222501,\n",
       "   0.1949235066192915,\n",
       "   0.2904324323415546,\n",
       "   0.1905514124267734,\n",
       "   0.20410759440901105,\n",
       "   0.191396277246615,\n",
       "   0.1695161092981984,\n",
       "   0.1965616322328226,\n",
       "   0.25705700117792535,\n",
       "   0.15403922195426356,\n",
       "   0.21755188681493193,\n",
       "   0.27894294565112987,\n",
       "   0.3050083178938479,\n",
       "   0.25302776199626137,\n",
       "   0.242552274204924,\n",
       "   0.16794877895704194,\n",
       "   0.4465069532422273,\n",
       "   0.4915214965449796,\n",
       "   0.3007433999440113,\n",
       "   0.16730017881017412,\n",
       "   0.16104477175644444,\n",
       "   0.19921680950051,\n",
       "   0.21274605355336318,\n",
       "   0.22106472945750374,\n",
       "   0.19041608557443818,\n",
       "   0.28866544375807546,\n",
       "   0.2589814194280898,\n",
       "   0.156861774859441,\n",
       "   0.17797285658949366,\n",
       "   0.2211327632245076,\n",
       "   0.15602106502222501,\n",
       "   0.3074560088320896,\n",
       "   0.1965616322328226,\n",
       "   0.16219604573732316,\n",
       "   0.18920035951687003,\n",
       "   0.24134883965824389,\n",
       "   0.1869118498476669,\n",
       "   0.1949590218937863,\n",
       "   0.25,\n",
       "   0.23446277174585972,\n",
       "   0.2761003297877126,\n",
       "   0.23813759062257386,\n",
       "   0.1776861677848975,\n",
       "   0.16155546744299637,\n",
       "   0.22424382421757544,\n",
       "   0.214059906296817,\n",
       "   0.23688281298528202,\n",
       "   0.22437012882523658,\n",
       "   0.17376534287144002,\n",
       "   0.22482416979899525,\n",
       "   0.1548123827357682,\n",
       "   0.1940937421831937,\n",
       "   0.24618173934346413,\n",
       "   0.22641077038680882,\n",
       "   0.20801459767650948,\n",
       "   0.16794877895704194,\n",
       "   0.22034772399834143,\n",
       "   0.1952750972718607,\n",
       "   0.19553451823244125,\n",
       "   0.17144160057391347,\n",
       "   0.38251634687449215,\n",
       "   0.19595665249815203,\n",
       "   0.1969938934975386,\n",
       "   0.24465054211822604,\n",
       "   0.16104477175644444,\n",
       "   0.15957141566993818,\n",
       "   0.2603226554241062,\n",
       "   0.4647140742041255,\n",
       "   0.20472712552298564,\n",
       "   0.15329048865267808,\n",
       "   0.22020711385342406,\n",
       "   0.15957141566993818,\n",
       "   0.37054934207114915,\n",
       "   0.16730017881017412,\n",
       "   0.17376534287144002,\n",
       "   0.1966650713458986,\n",
       "   0.4958428719389799,\n",
       "   0.27679091584342,\n",
       "   0.20584683246043448,\n",
       "   0.177719261986206,\n",
       "   0.20457390563268607,\n",
       "   0.29066997873895645,\n",
       "   0.4833256232075119,\n",
       "   0.27023815442731974,\n",
       "   0.16005307325482135,\n",
       "   0.3163100072220688,\n",
       "   0.38685280723454163,\n",
       "   0.15221034671324338,\n",
       "   0.21138142306271382,\n",
       "   0.21026289702140122,\n",
       "   0.15778488487217227,\n",
       "   0.1965616322328226,\n",
       "   0.15329048865267808,\n",
       "   0.3127669268087809,\n",
       "   0.22524407331742208,\n",
       "   0.1881116716894808,\n",
       "   0.16207652439312228,\n",
       "   0.3323760947451553,\n",
       "   0.38685280723454163,\n",
       "   0.15941688282670402,\n",
       "   0.38685280723454163,\n",
       "   0.2336855354843445,\n",
       "   0.4912566274469028,\n",
       "   0.22661429601217364,\n",
       "   0.24190970924560323,\n",
       "   0.19863169542559986,\n",
       "   0.5054516636191898,\n",
       "   0.3153757404870941,\n",
       "   0.3849782457893891,\n",
       "   0.471186601692811,\n",
       "   0.20801459767650948,\n",
       "   0.33660918627931424,\n",
       "   0.19366579823536878,\n",
       "   0.15256487060115928,\n",
       "   0.20184908658209985,\n",
       "   0.15221034671324338,\n",
       "   0.19344426646340607,\n",
       "   0.1605440854340214,\n",
       "   0.22388462575473383,\n",
       "   0.7268542381098685,\n",
       "   0.2646265348993365,\n",
       "   0.17005778436839095,\n",
       "   0.796388559456296,\n",
       "   0.2234025866421485,\n",
       "   0.17306525481388468,\n",
       "   0.2205182802635533,\n",
       "   0.16999161628691403,\n",
       "   0.3239589616226099,\n",
       "   0.28281973478488526,\n",
       "   0.16427204996205028,\n",
       "   0.1781035935540111,\n",
       "   0.2453220845203272,\n",
       "   0.18208790046993825,\n",
       "   0.16794877895704194,\n",
       "   0.16427204996205028,\n",
       "   0.203762878810895,\n",
       "   0.15366188628986424,\n",
       "   0.33384061579908403,\n",
       "   0.16485085672216038,\n",
       "   0.38220590862338216,\n",
       "   0.15019048322368797,\n",
       "   0.1729696904450771,\n",
       "   0.5738779000997556,\n",
       "   0.18935783036887238,\n",
       "   0.7712807308656885,\n",
       "   0.1810425967800402,\n",
       "   0.5777034264090571,\n",
       "   0.15520856277015513,\n",
       "   0.1715635703201838,\n",
       "   0.5724162166746234,\n",
       "   0.25399069448984374,\n",
       "   0.15292486830283217,\n",
       "   0.2521771143364511,\n",
       "   0.31933271748822484,\n",
       "   0.3197101446936495,\n",
       "   0.15863495891559604,\n",
       "   0.5724833444311782,\n",
       "   0.38685280723454163,\n",
       "   0.3010299956639812,\n",
       "   0.25699726325950756,\n",
       "   0.18535887009134813,\n",
       "   0.2030573579268261,\n",
       "   0.3767348707470184,\n",
       "   0.23810407898124678,\n",
       "   0.15084420062289414,\n",
       "   0.2186436975575023,\n",
       "   0.2037950470905062,\n",
       "   0.15602106502222501],\n",
       "  'recall@05': [0.0,\n",
       "   0.0,\n",
       "   0.0,\n",
       "   0.0,\n",
       "   0.0,\n",
       "   0.0,\n",
       "   0.0,\n",
       "   0.0,\n",
       "   0.0,\n",
       "   0.0,\n",
       "   0.0,\n",
       "   0.09090909090909091,\n",
       "   0.1111111111111111,\n",
       "   0.0,\n",
       "   0.0,\n",
       "   0.0,\n",
       "   0.0,\n",
       "   0.0,\n",
       "   0.0,\n",
       "   0.0,\n",
       "   0.0,\n",
       "   0.0,\n",
       "   0.0,\n",
       "   0.0,\n",
       "   0.0,\n",
       "   0.0,\n",
       "   0.0,\n",
       "   0.0,\n",
       "   0.0,\n",
       "   0.0,\n",
       "   0.0,\n",
       "   0.0,\n",
       "   0.16666666666666666,\n",
       "   0.0,\n",
       "   0.0,\n",
       "   0.0,\n",
       "   0.0,\n",
       "   0.0,\n",
       "   0.0,\n",
       "   0.0,\n",
       "   0.0,\n",
       "   0.0,\n",
       "   0.0,\n",
       "   0.0,\n",
       "   0.0,\n",
       "   0.0,\n",
       "   0.0,\n",
       "   1.0,\n",
       "   0.0,\n",
       "   0.0,\n",
       "   0.0,\n",
       "   0.0,\n",
       "   0.0,\n",
       "   0.0,\n",
       "   0.0,\n",
       "   0.0,\n",
       "   0.0,\n",
       "   0.0,\n",
       "   0.0,\n",
       "   0.0,\n",
       "   0.0,\n",
       "   0.0,\n",
       "   0.0,\n",
       "   0.0,\n",
       "   0.5,\n",
       "   0.0,\n",
       "   0.0,\n",
       "   0.0,\n",
       "   0.3333333333333333,\n",
       "   0.0,\n",
       "   0.0,\n",
       "   0.0,\n",
       "   0.0,\n",
       "   1.0,\n",
       "   0.125,\n",
       "   0.0,\n",
       "   0.0,\n",
       "   0.0,\n",
       "   0.0,\n",
       "   0.0,\n",
       "   0.0,\n",
       "   0.0,\n",
       "   0.3333333333333333,\n",
       "   0.0,\n",
       "   0.0,\n",
       "   0.0,\n",
       "   0.0,\n",
       "   0.0,\n",
       "   0.0,\n",
       "   0.0,\n",
       "   0.0,\n",
       "   0.0,\n",
       "   0.0,\n",
       "   0.0,\n",
       "   0.3333333333333333,\n",
       "   0.0,\n",
       "   0.0,\n",
       "   0.0,\n",
       "   0.0,\n",
       "   0.0,\n",
       "   0.5,\n",
       "   0.0,\n",
       "   0.0,\n",
       "   0.0,\n",
       "   0.25,\n",
       "   0.0,\n",
       "   0.0,\n",
       "   0.0,\n",
       "   0.0,\n",
       "   0.0,\n",
       "   0.0,\n",
       "   0.0,\n",
       "   0.0,\n",
       "   0.0,\n",
       "   0.0,\n",
       "   0.0,\n",
       "   0.0,\n",
       "   0.0,\n",
       "   0.0,\n",
       "   0.0,\n",
       "   0.0,\n",
       "   0.0,\n",
       "   0.0,\n",
       "   0.0,\n",
       "   0.0,\n",
       "   0.0,\n",
       "   0.0,\n",
       "   0.0,\n",
       "   0.0,\n",
       "   0.0,\n",
       "   0.0,\n",
       "   0.0,\n",
       "   0.0,\n",
       "   0.0,\n",
       "   0.0,\n",
       "   0.0,\n",
       "   0.5,\n",
       "   0.0,\n",
       "   0.0,\n",
       "   0.0,\n",
       "   0.0,\n",
       "   0.0,\n",
       "   0.0,\n",
       "   0.0,\n",
       "   0.0,\n",
       "   0.0,\n",
       "   0.0,\n",
       "   1.0,\n",
       "   0.0,\n",
       "   0.0,\n",
       "   0.0,\n",
       "   0.0,\n",
       "   0.0,\n",
       "   0.0,\n",
       "   0.2,\n",
       "   0.0,\n",
       "   0.0,\n",
       "   0.0,\n",
       "   0.0,\n",
       "   0.0,\n",
       "   0.0,\n",
       "   0.0,\n",
       "   0.0,\n",
       "   0.0,\n",
       "   0.0,\n",
       "   0.0,\n",
       "   0.0,\n",
       "   0.0,\n",
       "   0.0,\n",
       "   0.0,\n",
       "   0.0,\n",
       "   0.0,\n",
       "   0.0,\n",
       "   0.0,\n",
       "   0.0,\n",
       "   0.0,\n",
       "   0.5,\n",
       "   0.0,\n",
       "   0.0,\n",
       "   0.0,\n",
       "   0.0,\n",
       "   0.0,\n",
       "   0.0,\n",
       "   0.0,\n",
       "   0.0,\n",
       "   0.0,\n",
       "   0.0,\n",
       "   0.0,\n",
       "   0.0,\n",
       "   0.047619047619047616,\n",
       "   0.0,\n",
       "   1.0,\n",
       "   0.14285714285714285,\n",
       "   0.0,\n",
       "   1.0,\n",
       "   0.0,\n",
       "   0.0,\n",
       "   0.0,\n",
       "   0.0,\n",
       "   0.0,\n",
       "   0.0,\n",
       "   0.25,\n",
       "   0.0,\n",
       "   0.0,\n",
       "   0.0,\n",
       "   0.0,\n",
       "   0.0,\n",
       "   0.0,\n",
       "   0.0,\n",
       "   0.0,\n",
       "   0.0,\n",
       "   0.0,\n",
       "   0.125,\n",
       "   0.0,\n",
       "   0.0,\n",
       "   0.0,\n",
       "   0.0,\n",
       "   0.0,\n",
       "   0.0,\n",
       "   1.0,\n",
       "   0.0,\n",
       "   0.0,\n",
       "   0.25,\n",
       "   0.0,\n",
       "   0.0,\n",
       "   0.0,\n",
       "   0.0,\n",
       "   0.0,\n",
       "   0.0,\n",
       "   0.0,\n",
       "   0.0,\n",
       "   0.0,\n",
       "   0.0,\n",
       "   0.0,\n",
       "   0.0,\n",
       "   0.0,\n",
       "   0.0,\n",
       "   0.0,\n",
       "   0.0,\n",
       "   0.0,\n",
       "   0.16666666666666666,\n",
       "   0.0,\n",
       "   0.0,\n",
       "   0.0,\n",
       "   0.0,\n",
       "   0.0,\n",
       "   0.0,\n",
       "   0.0,\n",
       "   0.0,\n",
       "   0.25,\n",
       "   0.0,\n",
       "   0.0,\n",
       "   0.0,\n",
       "   0.0,\n",
       "   0.0,\n",
       "   0.0,\n",
       "   0.0,\n",
       "   0.0,\n",
       "   0.5,\n",
       "   0.0,\n",
       "   0.0,\n",
       "   0.0,\n",
       "   0.0,\n",
       "   0.0,\n",
       "   0.0,\n",
       "   0.0,\n",
       "   0.0,\n",
       "   0.0,\n",
       "   0.0,\n",
       "   0.0,\n",
       "   0.0,\n",
       "   0.0,\n",
       "   0.0,\n",
       "   0.0,\n",
       "   0.0,\n",
       "   0.0,\n",
       "   0.0,\n",
       "   0.0,\n",
       "   0.5,\n",
       "   0.0,\n",
       "   0.0,\n",
       "   0.0,\n",
       "   0.5,\n",
       "   0.0,\n",
       "   0.0,\n",
       "   0.0,\n",
       "   0.0,\n",
       "   1.0,\n",
       "   0.0,\n",
       "   0.0,\n",
       "   0.0,\n",
       "   0.0,\n",
       "   0.0,\n",
       "   0.0,\n",
       "   0.0,\n",
       "   0.0,\n",
       "   0.0,\n",
       "   0.0,\n",
       "   0.0,\n",
       "   0.0,\n",
       "   0.0,\n",
       "   0.0,\n",
       "   0.0,\n",
       "   0.0,\n",
       "   0.0,\n",
       "   0.0,\n",
       "   0.0,\n",
       "   0.0,\n",
       "   0.5,\n",
       "   0.0,\n",
       "   0.0,\n",
       "   0.0,\n",
       "   0.0,\n",
       "   0.0,\n",
       "   0.0,\n",
       "   0.0,\n",
       "   0.0,\n",
       "   0.0,\n",
       "   0.0,\n",
       "   0.0,\n",
       "   0.0,\n",
       "   0.0,\n",
       "   0.0,\n",
       "   0.0,\n",
       "   0.0,\n",
       "   0.0,\n",
       "   0.0,\n",
       "   0.0,\n",
       "   0.0,\n",
       "   0.0,\n",
       "   0.0,\n",
       "   0.0,\n",
       "   0.0,\n",
       "   0.0,\n",
       "   0.0,\n",
       "   0.0,\n",
       "   0.0,\n",
       "   0.0,\n",
       "   0.0,\n",
       "   0.0,\n",
       "   0.0,\n",
       "   0.0,\n",
       "   0.0,\n",
       "   0.0,\n",
       "   0.0,\n",
       "   0.0,\n",
       "   0.0,\n",
       "   0.3333333333333333,\n",
       "   0.0,\n",
       "   0.0,\n",
       "   0.0,\n",
       "   0.0,\n",
       "   0.0,\n",
       "   0.0,\n",
       "   0.0,\n",
       "   0.0,\n",
       "   0.0,\n",
       "   0.0,\n",
       "   0.0,\n",
       "   0.0,\n",
       "   0.0,\n",
       "   0.3333333333333333,\n",
       "   0.0,\n",
       "   0.0,\n",
       "   0.0,\n",
       "   0.0,\n",
       "   0.5,\n",
       "   0.0,\n",
       "   0.0,\n",
       "   0.0,\n",
       "   0.0,\n",
       "   0.0,\n",
       "   0.0,\n",
       "   0.0,\n",
       "   0.0,\n",
       "   0.0,\n",
       "   0.0,\n",
       "   0.0,\n",
       "   0.0,\n",
       "   0.0,\n",
       "   0.0,\n",
       "   1.0,\n",
       "   0.0,\n",
       "   1.0,\n",
       "   0.0,\n",
       "   0.5,\n",
       "   0.0,\n",
       "   0.0,\n",
       "   0.0,\n",
       "   0.5,\n",
       "   0.0,\n",
       "   0.0,\n",
       "   0.0,\n",
       "   0.0,\n",
       "   0.0,\n",
       "   0.0,\n",
       "   0.0,\n",
       "   0.0,\n",
       "   0.0,\n",
       "   0.0,\n",
       "   0.0,\n",
       "   0.0,\n",
       "   0.09523809523809523,\n",
       "   0.0,\n",
       "   0.0,\n",
       "   0.5,\n",
       "   0.0,\n",
       "   0.0,\n",
       "   0.0,\n",
       "   0.0,\n",
       "   0.0,\n",
       "   0.0,\n",
       "   0.0,\n",
       "   0.0,\n",
       "   0.0,\n",
       "   0.0,\n",
       "   0.0,\n",
       "   0.0,\n",
       "   0.0,\n",
       "   0.0,\n",
       "   1.0,\n",
       "   0.0,\n",
       "   0.0,\n",
       "   0.0,\n",
       "   0.0,\n",
       "   0.5,\n",
       "   0.0,\n",
       "   0.038461538461538464,\n",
       "   0.0,\n",
       "   0.0,\n",
       "   0.058823529411764705,\n",
       "   0.0,\n",
       "   0.0,\n",
       "   0.0,\n",
       "   0.0,\n",
       "   0.0,\n",
       "   0.0,\n",
       "   1.0,\n",
       "   1.0,\n",
       "   0.0,\n",
       "   0.0,\n",
       "   0.0,\n",
       "   0.0,\n",
       "   0.25,\n",
       "   0.0,\n",
       "   0.0,\n",
       "   0.0,\n",
       "   0.0,\n",
       "   0.0]}}"
      ]
     },
     "execution_count": 22,
     "metadata": {},
     "output_type": "execute_result"
    }
   ],
   "source": [
    "seed(42)\n",
    "\n",
    "params = Namespace(epochs=1, lr=1e-4, batch_size=1, metrics={\"ndcg\", \"precision@05\", \"recall@05\"})\n",
    "\n",
    "pairwise_net = LTRModel(N_FEATURES)\n",
    "\n",
    "create_results(\n",
    "    data, pairwise_net,\n",
    "    train_pairwise,\n",
    "    pairwise_net,\n",
    "    \"pairwise_normal_res.json\",\n",
    "    params\n",
    ")"
   ]
  },
  {
   "cell_type": "markdown",
   "metadata": {
    "nbgrader": {
     "grade": false,
     "grade_id": "cell-3a95bb01f72fc76c",
     "locked": true,
     "schema_version": 3,
     "solution": false,
     "task": false
    }
   },
   "source": [
    "## Section 4: Pairwise: Speed-up RankNet <a class=\"anchor\" id=\"pairwise_speedup\"></a>\n",
    "\n",
    "[Back to top](#top)\n",
    "\n",
    "To speed up training of the previous model, we can consider a sped up version of the model, where instead of `.backward` on the loss, we use `torch.backward(lambda_i)`. \n",
    "\n",
    "The derivative of the total cost $C_T$ with respect to the model parameters $w_k$ is:\n",
    "\n",
    "$$        \\frac{\\partial C_T}{\\partial w_k} = \\sum_{(i,j) \\in \\mathcal{P}} \\frac{\\partial C(s_i, s_j)}{\\partial s_i} \\frac{\\partial s_i}{\\partial w_k} + \\frac{\\partial C(s_i, s_j)}{\\partial s_j} \\frac{\\partial s_j}{\\partial w_k} $$\n",
    "\n",
    "We can rewrite this sum by considering the set of indices $j$ , for which $\\{i,j\\}$ is a valid pair, denoted by $\\mathcal{P}_i$, and the set of document indices $\\mathcal{D}$:\n",
    "\n",
    "$$\n",
    "\\frac{\\partial C_T}{\\partial w_k} = \\sum_{i \\in \\mathcal{D}}\n",
    "\\frac{\\partial s_i}{\\partial w_k} \\sum_{j \\in \\mathcal{P}_i} \n",
    "\\frac{\\partial C(s_i, s_j)}{\\partial s_i} \n",
    "$$\n",
    "\n",
    "This sped of version of the algorithm first computes scores $s_i$ for all the documents. Then for each $j= 1, \\dots, n$, compute:\n",
    "\n",
    "$$\n",
    "\\lambda_{ij} = \\frac{\\partial C(s_i, s_j)}{\\partial s_i} = \\sigma \\bigg( \\frac{1}{2}(1 - S_{ij}) -  \\frac{1}{1 + e^{\\sigma(s_i -s_j))}} \\bigg) \\\\\n",
    "\\lambda_i = \\sum_{j \\in \\mathcal{P}_i} \\frac{\\partial C(s_i, s_j)}{\\partial s_i} = \\sum_{j \\in \\mathcal{P}_i} \\lambda_{ij}\n",
    "$$\n",
    "\n",
    "That gives us:\n",
    "\n",
    "$$\n",
    "\\frac{\\partial C_T}{\\partial w_k} = \\sum_{i \\in \\mathcal{D}}\n",
    "\\frac{\\partial s_i}{\\partial w_k} \\lambda_i\n",
    "$$\n",
    "\n",
    "This can be directly optimized in pytorch using: `torch.autograd.backward(scores, lambda_i)` \n",
    " \n"
   ]
  },
  {
   "cell_type": "markdown",
   "metadata": {
    "nbgrader": {
     "grade": false,
     "grade_id": "cell-2a9b7b682a011642",
     "locked": true,
     "schema_version": 3,
     "solution": false,
     "task": false
    }
   },
   "source": [
    "\\# ToDO:\n",
    "\n",
    "Implement the `compute_lambda_i` for the sped-up version of pairwise loss as described above. You can find the function definiton in `ltr.ltr`."
   ]
  },
  {
   "cell_type": "code",
   "execution_count": 23,
   "metadata": {
    "nbgrader": {
     "grade": false,
     "grade_id": "cell-ba7f8d8631e3f1d6",
     "locked": false,
     "schema_version": 3,
     "solution": true,
     "task": false
    }
   },
   "outputs": [],
   "source": [
    "from ltr.loss import compute_lambda_i"
   ]
  },
  {
   "cell_type": "code",
   "execution_count": 24,
   "metadata": {
    "nbgrader": {
     "grade": true,
     "grade_id": "cell-e7a6c3f6f5b8573d",
     "locked": true,
     "points": 20,
     "schema_version": 3,
     "solution": false,
     "task": false
    }
   },
   "outputs": [],
   "source": [
    "from ltr.loss import mean_lambda"
   ]
  },
  {
   "cell_type": "markdown",
   "metadata": {
    "nbgrader": {
     "grade": false,
     "grade_id": "cell-302ff24228d5d645",
     "locked": true,
     "schema_version": 3,
     "solution": false,
     "task": false
    }
   },
   "source": [
    "\\# ToDO:\n",
    "\n",
    "Implement `train_pairwise_spedup` function for more efficient training with pairwise loss. You can find the definition in `ltr.train`. "
   ]
  },
  {
   "cell_type": "code",
   "execution_count": 25,
   "metadata": {},
   "outputs": [],
   "source": [
    "from ltr.train import train_pairwise_spedup"
   ]
  },
  {
   "cell_type": "code",
   "execution_count": 26,
   "metadata": {},
   "outputs": [
    {
     "name": "stdout",
     "output_type": "stream",
     "text": [
      "Training Model\n"
     ]
    },
    {
     "name": "stderr",
     "output_type": "stream",
     "text": [
      "                                                                 \r"
     ]
    },
    {
     "ename": "KeyboardInterrupt",
     "evalue": "",
     "output_type": "error",
     "traceback": [
      "\u001b[1;31m---------------------------------------------------------------------------\u001b[0m",
      "\u001b[1;31mKeyboardInterrupt\u001b[0m                         Traceback (most recent call last)",
      "Cell \u001b[1;32mIn[26], line 11\u001b[0m\n\u001b[0;32m      5\u001b[0m params \u001b[38;5;241m=\u001b[39m Namespace(\n\u001b[0;32m      6\u001b[0m     epochs\u001b[38;5;241m=\u001b[39m\u001b[38;5;241m11\u001b[39m, lr\u001b[38;5;241m=\u001b[39m\u001b[38;5;241m1e-3\u001b[39m, batch_size\u001b[38;5;241m=\u001b[39m\u001b[38;5;241m1\u001b[39m, metrics\u001b[38;5;241m=\u001b[39m{\u001b[38;5;124m\"\u001b[39m\u001b[38;5;124mndcg\u001b[39m\u001b[38;5;124m\"\u001b[39m, \u001b[38;5;124m\"\u001b[39m\u001b[38;5;124mprecision@05\u001b[39m\u001b[38;5;124m\"\u001b[39m, \u001b[38;5;124m\"\u001b[39m\u001b[38;5;124mrecall@05\u001b[39m\u001b[38;5;124m\"\u001b[39m}\n\u001b[0;32m      7\u001b[0m )\n\u001b[0;32m      9\u001b[0m sped_up_pairwise_model \u001b[38;5;241m=\u001b[39m LTRModel(N_FEATURES)\n\u001b[1;32m---> 11\u001b[0m \u001b[43mcreate_results\u001b[49m\u001b[43m(\u001b[49m\n\u001b[0;32m     12\u001b[0m \u001b[43m    \u001b[49m\u001b[43mdata\u001b[49m\u001b[43m,\u001b[49m\n\u001b[0;32m     13\u001b[0m \u001b[43m    \u001b[49m\u001b[43msped_up_pairwise_model\u001b[49m\u001b[43m,\u001b[49m\n\u001b[0;32m     14\u001b[0m \u001b[43m    \u001b[49m\u001b[43mtrain_pairwise_spedup\u001b[49m\u001b[43m,\u001b[49m\n\u001b[0;32m     15\u001b[0m \u001b[43m    \u001b[49m\u001b[43msped_up_pairwise_model\u001b[49m\u001b[43m,\u001b[49m\n\u001b[0;32m     16\u001b[0m \u001b[43m    \u001b[49m\u001b[38;5;124;43m\"\u001b[39;49m\u001b[38;5;124;43m./outputs/pairwise_spedup_res.json\u001b[39;49m\u001b[38;5;124;43m\"\u001b[39;49m\u001b[43m,\u001b[49m\n\u001b[0;32m     17\u001b[0m \u001b[43m    \u001b[49m\u001b[43mparams\u001b[49m\u001b[43m,\u001b[49m\n\u001b[0;32m     18\u001b[0m \u001b[43m)\u001b[49m\n\u001b[0;32m     20\u001b[0m torch\u001b[38;5;241m.\u001b[39msave(sped_up_pairwise_model\u001b[38;5;241m.\u001b[39mstate_dict(), \u001b[38;5;124m\"\u001b[39m\u001b[38;5;124m./outputs/pairwise_spedup_model\u001b[39m\u001b[38;5;124m\"\u001b[39m)\n",
      "File \u001b[1;32mc:\\MSc AI UvA\\Information Retrieval 1\\Assignment\\Assignment 3\\assignment3-learning-to-rank-v2-63-marko-hafeez\\ltr\\utils.py:27\u001b[0m, in \u001b[0;36mcreate_results\u001b[1;34m(data, net, train_fn, prediction_fn, results_file, *train_params)\u001b[0m\n\u001b[0;32m     25\u001b[0m \u001b[38;5;28;01mdef\u001b[39;00m \u001b[38;5;21mcreate_results\u001b[39m(data, net, train_fn, prediction_fn, results_file, \u001b[38;5;241m*\u001b[39mtrain_params):\n\u001b[0;32m     26\u001b[0m     \u001b[38;5;28mprint\u001b[39m(\u001b[38;5;124m\"\u001b[39m\u001b[38;5;124mTraining Model\u001b[39m\u001b[38;5;124m\"\u001b[39m)\n\u001b[1;32m---> 27\u001b[0m     metrics \u001b[38;5;241m=\u001b[39m \u001b[43mtrain_fn\u001b[49m\u001b[43m(\u001b[49m\u001b[43mnet\u001b[49m\u001b[43m,\u001b[49m\u001b[43m \u001b[49m\u001b[38;5;241;43m*\u001b[39;49m\u001b[43mtrain_params\u001b[49m\u001b[43m,\u001b[49m\u001b[43m \u001b[49m\u001b[43mdata\u001b[49m\u001b[43m)\u001b[49m\n\u001b[0;32m     28\u001b[0m     net\u001b[38;5;241m.\u001b[39meval()\n\u001b[0;32m     30\u001b[0m     test_metrics, test_qq \u001b[38;5;241m=\u001b[39m evaluate_model(\n\u001b[0;32m     31\u001b[0m         data, prediction_fn, \u001b[38;5;124m\"\u001b[39m\u001b[38;5;124mtest\u001b[39m\u001b[38;5;124m\"\u001b[39m, print_results\u001b[38;5;241m=\u001b[39m\u001b[38;5;28;01mFalse\u001b[39;00m, q_level\u001b[38;5;241m=\u001b[39m\u001b[38;5;28;01mTrue\u001b[39;00m\n\u001b[0;32m     32\u001b[0m     )\n",
      "File \u001b[1;32mc:\\MSc AI UvA\\Information Retrieval 1\\Assignment\\Assignment 3\\assignment3-learning-to-rank-v2-63-marko-hafeez\\ltr\\train.py:292\u001b[0m, in \u001b[0;36mtrain_pairwise_spedup\u001b[1;34m(net, params, data)\u001b[0m\n\u001b[0;32m    289\u001b[0m scores \u001b[38;5;241m=\u001b[39m net(features)\n\u001b[0;32m    291\u001b[0m \u001b[38;5;66;03m# Step 5: Compute lambda gradients directly\u001b[39;00m\n\u001b[1;32m--> 292\u001b[0m lambda_i \u001b[38;5;241m=\u001b[39m \u001b[43mcompute_lambda_i\u001b[49m\u001b[43m(\u001b[49m\u001b[43mscores\u001b[49m\u001b[43m,\u001b[49m\u001b[43m \u001b[49m\u001b[43mlabels\u001b[49m\u001b[43m)\u001b[49m\n\u001b[0;32m    294\u001b[0m \u001b[38;5;66;03m# Step 6: Backward from scores using lambda gradients\u001b[39;00m\n\u001b[0;32m    295\u001b[0m scores\u001b[38;5;241m.\u001b[39mbackward(lambda_i)\n",
      "File \u001b[1;32mc:\\MSc AI UvA\\Information Retrieval 1\\Assignment\\Assignment 3\\assignment3-learning-to-rank-v2-63-marko-hafeez\\ltr\\loss.py:144\u001b[0m, in \u001b[0;36mcompute_lambda_i\u001b[1;34m(scores, labels)\u001b[0m\n\u001b[0;32m    141\u001b[0m     S_ij \u001b[38;5;241m=\u001b[39m \u001b[38;5;241m0.0\u001b[39m  \u001b[38;5;66;03m# Equal relevance\u001b[39;00m\n\u001b[0;32m    143\u001b[0m \u001b[38;5;66;03m# Calculate lambda_ij using the provided formula\u001b[39;00m\n\u001b[1;32m--> 144\u001b[0m exp_term \u001b[38;5;241m=\u001b[39m \u001b[38;5;241;43m1.0\u001b[39;49m\u001b[43m \u001b[49m\u001b[38;5;241;43m/\u001b[39;49m\u001b[43m \u001b[49m\u001b[43m(\u001b[49m\u001b[38;5;241;43m1.0\u001b[39;49m\u001b[43m \u001b[49m\u001b[38;5;241;43m+\u001b[39;49m\u001b[43m \u001b[49m\u001b[43mtorch\u001b[49m\u001b[38;5;241;43m.\u001b[39;49m\u001b[43mexp\u001b[49m\u001b[43m(\u001b[49m\u001b[43msigma\u001b[49m\u001b[43m \u001b[49m\u001b[38;5;241;43m*\u001b[39;49m\u001b[43m \u001b[49m\u001b[43m(\u001b[49m\u001b[43mscores\u001b[49m\u001b[43m[\u001b[49m\u001b[43mi\u001b[49m\u001b[43m]\u001b[49m\u001b[43m \u001b[49m\u001b[38;5;241;43m-\u001b[39;49m\u001b[43m \u001b[49m\u001b[43mscores\u001b[49m\u001b[43m[\u001b[49m\u001b[43mj\u001b[49m\u001b[43m]\u001b[49m\u001b[43m)\u001b[49m\u001b[43m)\u001b[49m\u001b[43m)\u001b[49m\n\u001b[0;32m    145\u001b[0m lambda_ij \u001b[38;5;241m=\u001b[39m sigma \u001b[38;5;241m*\u001b[39m (\u001b[38;5;241m0.5\u001b[39m \u001b[38;5;241m*\u001b[39m (\u001b[38;5;241m1\u001b[39m \u001b[38;5;241m-\u001b[39m S_ij) \u001b[38;5;241m-\u001b[39m exp_term)\n\u001b[0;32m    147\u001b[0m \u001b[38;5;66;03m# Add to the total lambda for document i\u001b[39;00m\n",
      "File \u001b[1;32mc:\\Users\\Hafeez\\miniconda3\\envs\\ir_assignment3\\lib\\site-packages\\torch\\_tensor.py:39\u001b[0m, in \u001b[0;36m_handle_torch_function_and_wrap_type_error_to_not_implemented.<locals>.wrapped\u001b[1;34m(*args, **kwargs)\u001b[0m\n\u001b[0;32m     37\u001b[0m     \u001b[38;5;28;01mif\u001b[39;00m has_torch_function(args):\n\u001b[0;32m     38\u001b[0m         \u001b[38;5;28;01mreturn\u001b[39;00m handle_torch_function(wrapped, args, \u001b[38;5;241m*\u001b[39margs, \u001b[38;5;241m*\u001b[39m\u001b[38;5;241m*\u001b[39mkwargs)\n\u001b[1;32m---> 39\u001b[0m     \u001b[38;5;28;01mreturn\u001b[39;00m f(\u001b[38;5;241m*\u001b[39margs, \u001b[38;5;241m*\u001b[39m\u001b[38;5;241m*\u001b[39mkwargs)\n\u001b[0;32m     40\u001b[0m \u001b[38;5;28;01mexcept\u001b[39;00m \u001b[38;5;167;01mTypeError\u001b[39;00m:\n\u001b[0;32m     41\u001b[0m     \u001b[38;5;28;01mreturn\u001b[39;00m \u001b[38;5;28mNotImplemented\u001b[39m\n",
      "\u001b[1;31mKeyboardInterrupt\u001b[0m: "
     ]
    }
   ],
   "source": [
    "# IMPORTANT DO NOT CHANGE seed, params, or any of the PATH variables\n",
    "\n",
    "seed(42)\n",
    "\n",
    "params = Namespace(\n",
    "    epochs=11, lr=1e-3, batch_size=1, metrics={\"ndcg\", \"precision@05\", \"recall@05\"}\n",
    ")\n",
    "\n",
    "sped_up_pairwise_model = LTRModel(N_FEATURES)\n",
    "\n",
    "create_results(\n",
    "    data,\n",
    "    sped_up_pairwise_model,\n",
    "    train_pairwise_spedup,\n",
    "    sped_up_pairwise_model,\n",
    "    \"./outputs/pairwise_spedup_res.json\",\n",
    "    params,\n",
    ")\n",
    "\n",
    "torch.save(sped_up_pairwise_model.state_dict(), \"./outputs/pairwise_spedup_model\")"
   ]
  },
  {
   "cell_type": "markdown",
   "metadata": {},
   "source": [
    "##  Section 5: Listwise LTR <a class=\"anchor\" id=\"listwise_LTR\"></a>\n",
    "\n",
    "[Back to top](#top)\n",
    "\n",
    "In this section, you will implement LambdaRank, a listwise approach to LTR. Consider the computation of $\\lambda$ for sped-up RankNet (that you've already implemented). $\\lambda$ here amounts to the 'force' on a document given its neighbours in the ranked list. The design of $\\lambda$ in LambdaRank is similar to RankNet, but is scaled by DCG gain from swapping the two documents in question. Let's suppose that the corresponding ranks of doucment $D_i$ and $D_j$ are $r_i$ and $r_j$ respectively. Given a ranking measure $IRM$, such as $NDCG$ or $ERR$, the lambda function in LambdaRank is defined as:\n",
    "\n",
    "\n",
    "$$        \\frac{\\partial C}{\\partial s_i} = \\sum_{j \\in D} \\lambda_{ij} \\cdot |\\bigtriangleup IRM (i,j)| $$\n",
    "\n",
    "Where $|\\bigtriangleup IRM(i,j)|$ is the absolute difference in $IRM$ after swapping the rank positions $r_i$ and $r_j$ while leaving everything else unchanged ($| \\cdot |$ denotes the absolute value). Note that we do not backpropogate $|\\bigtriangleup IRM|$, it is treated as a constant that scales the gradients. In this assignment we will use $|\\bigtriangleup NDCG|$"
   ]
  },
  {
   "cell_type": "markdown",
   "metadata": {
    "nbgrader": {
     "grade": false,
     "grade_id": "cell-351c194e6797d0a0",
     "locked": true,
     "schema_version": 3,
     "solution": false,
     "task": false
    }
   },
   "source": [
    "\\# ToDO:\n",
    "\n",
    "Implement the listwise loss in `listwise_loss` function defined in `ltr.ltr`\n",
    "\n"
   ]
  },
  {
   "cell_type": "code",
   "execution_count": null,
   "metadata": {},
   "outputs": [],
   "source": [
    "from ltr.loss import listwise_loss"
   ]
  },
  {
   "cell_type": "markdown",
   "metadata": {},
   "source": [
    "The function `mean_lambda_list` is defined in `ltr.ltr`.\n",
    "\n",
    "\\# ToDo:\n",
    "Implement `train_listwise` function to train with list_wise loss. you can find the definition in `ltr.train`."
   ]
  },
  {
   "cell_type": "code",
   "execution_count": null,
   "metadata": {
    "nbgrader": {
     "grade": true,
     "grade_id": "cell-59d3cccadbb8acae",
     "locked": true,
     "points": 15,
     "schema_version": 3,
     "solution": false,
     "task": false
    }
   },
   "outputs": [],
   "source": [
    "from ltr.loss import mean_lambda_list\n",
    "from ltr.train import train_listwise"
   ]
  },
  {
   "cell_type": "code",
   "execution_count": null,
   "metadata": {},
   "outputs": [],
   "source": [
    "# IMPORTANT DO NOT CHANGE seed, params, or any of the PATH variables\n",
    "\n",
    "seed(42)\n",
    "\n",
    "params = Namespace(\n",
    "    epochs=11, lr=1e-4, batch_size=1, metrics={\"ndcg\", \"precision@05\", \"recall@05\"}\n",
    ")\n",
    "\n",
    "listwise_model = LTRModel(N_FEATURES)\n",
    "\n",
    "create_results(\n",
    "    data,\n",
    "    listwise_model,\n",
    "    train_listwise,\n",
    "    listwise_model,\n",
    "    \"./outputs/listwise_res.json\",\n",
    "    params,\n",
    ")\n",
    "\n",
    "torch.save(listwise_model.state_dict(), \"./outputs/listwise_model\")"
   ]
  },
  {
   "cell_type": "markdown",
   "metadata": {},
   "source": [
    "---\n",
    "# Chapter 2: Counterfactual LTR <a class=\"anchor\" id=\"c_LTR\"></a>"
   ]
  },
  {
   "cell_type": "markdown",
   "metadata": {},
   "source": [
    "In this chapter, you will implement counterfactual learning to rank algorithms. In contrast to offline LTR algorithms, counterfactual LTR algorithms are trained on a dataset of user interactions. First, we will load the dataset:"
   ]
  },
  {
   "cell_type": "code",
   "execution_count": 27,
   "metadata": {},
   "outputs": [],
   "source": [
    "from ltr.dataset import load_data\n",
    "\n",
    "data = load_data()"
   ]
  },
  {
   "cell_type": "markdown",
   "metadata": {},
   "source": [
    "We assume that there is a logging policy that shows the results for each query to the users and logs the user clicks.\n",
    "For that, we provide a logging policy simulator `LoggingPolicy`.\n",
    "Our logging policy only shows top 20 documents to the users.\n",
    "You can use this simulator to:\n",
    "- Get the position of the documents for a query in the SERP: `query_positions`.\n",
    "- Gather the (simulated) clicks of users for a query: `gather_clicks`."
   ]
  },
  {
   "cell_type": "code",
   "execution_count": 28,
   "metadata": {},
   "outputs": [],
   "source": [
    "params = Namespace(\n",
    "\n",
    "    epochs=20, lr=1e-4, batch_size=1, metrics={\"ndcg@10\", \"precision@10\", \"recall@10\"}, policy_path=\"./data/\")\n"
   ]
  },
  {
   "cell_type": "code",
   "execution_count": 29,
   "metadata": {},
   "outputs": [
    {
     "name": "stdout",
     "output_type": "stream",
     "text": [
      "clicks for session 1 on documents [33 99] on positions [1 0]\n",
      "clicks for session 2 on documents [99] on positions [0]\n",
      "clicks for session 3 on documents [99] on positions [0]\n",
      "clicks for session 4 on documents [33 99] on positions [1 0]\n",
      "clicks for session 5 on documents [99] on positions [0]\n",
      "clicks for session 6 on documents [32 33 69 99] on positions [3 1 7 0]\n",
      "clicks for session 7 on documents [99] on positions [0]\n",
      "clicks for session 8 on documents [33 68 99] on positions [ 1 10  0]\n",
      "clicks for session 9 on documents [33 87 99] on positions [ 1 16  0]\n",
      "clicks for session 10 on documents [69 73 99] on positions [ 7 19  0]\n"
     ]
    }
   ],
   "source": [
    "from ltr.logging_policy import LoggingPolicy\n",
    "\n",
    "logging_policy = LoggingPolicy()\n",
    "\n",
    "# Gather the clicks on the SERP for query 20\n",
    "for i in range(10):\n",
    "    clicked_docs = np.where(logging_policy.gather_clicks(20))[0]\n",
    "    clicked_positions = logging_policy.query_positions(20)[clicked_docs]\n",
    "    print(\n",
    "        f\"clicks for session {i+1} on documents\",\n",
    "        clicked_docs,\n",
    "        \"on positions\",\n",
    "        clicked_positions,\n",
    "    )"
   ]
  },
  {
   "cell_type": "markdown",
   "metadata": {},
   "source": [
    "## Section 1: Utils <a class=\"anchor\" id=\"utils\"></a>\n",
    "\n",
    "[Back to top](#top)\n",
    "\n",
    "### Click data loader\n",
    "First, we need to have a data loader that feeds the model with features and click data.\n",
    "In this data loader, you have to select `topk=20` items for each query, and return three tensors:\n",
    "- Feature vectors of the selected documents,\n",
    "- One instance of the clicks over the selected documents, using the `gather_clicks(qid)` function, and\n",
    "- The positions of the selected documents in the SERP.\n",
    "\n",
    "**IMPORTANT** Here you *should not* use the `labels` for training. It is assumed that we cannot observe the real labels and want to use the `clicks` to train our LTR model \n",
    "instead.\n",
    "\n",
    "ToDo: Implement the `__getitem__` method in `ClickLTRData` class in `ltr.dataset` to return the feature vectors, clicks, and positions of the selected documents for each query."
   ]
  },
  {
   "cell_type": "code",
   "execution_count": 30,
   "metadata": {},
   "outputs": [
    {
     "name": "stdout",
     "output_type": "stream",
     "text": [
      "torch.Size([1, 20, 15]) torch.Size([1, 20]) torch.Size([1, 20])\n",
      "torch.Size([1, 20, 15]) torch.Size([1, 20]) torch.Size([1, 20])\n",
      "clicks: tensor([[0., 0., 0., 0., 0., 0., 0., 0., 1., 0., 0., 0., 0., 0., 0., 0., 0., 0.,\n",
      "         0., 0.]])\n",
      "positions: tensor([[ 2,  0, 10,  9, 16,  8,  3,  6,  5, 12, 14, 17, 15,  1, 11,  4, 18, 19,\n",
      "          7, 13]])\n"
     ]
    }
   ],
   "source": [
    "from ltr.dataset import ClickLTRData\n",
    "\n",
    "train_dl = DataLoader(ClickLTRData(data, logging_policy), batch_size=1, shuffle=True)\n",
    "\n",
    "for features, clicks, positions in train_dl:\n",
    "    print(features.shape, clicks.shape, positions.shape)\n",
    "\n",
    "    assert positions.dtype == torch.long\n",
    "    print(features.shape, clicks.shape, positions.shape)\n",
    "    print(\"clicks:\", clicks)\n",
    "    print(\"positions:\", positions)\n",
    "    break"
   ]
  },
  {
   "cell_type": "markdown",
   "metadata": {},
   "source": [
    "### LTR model\n",
    "Further, let's copy the idea of the `LTRModel` from previous chapter to implement `CLTRModel` in `ltr.model` for counterfactual learning to rank and take the width of the middle layer as an argument.\n",
    "\n",
    "ToDo: Implement the `__init__` and `forward` methods in `CLTRModel` class in `ltr.model`."
   ]
  },
  {
   "cell_type": "code",
   "execution_count": 31,
   "metadata": {},
   "outputs": [
    {
     "name": "stdout",
     "output_type": "stream",
     "text": [
      "CLTRModel(\n",
      "  (layers): Sequential(\n",
      "    (0): Linear(in_features=15, out_features=20, bias=True)\n",
      "    (1): ReLU()\n",
      "    (2): Linear(in_features=20, out_features=1, bias=True)\n",
      "  )\n",
      ")\n"
     ]
    }
   ],
   "source": [
    "from ltr.model import CLTRModel\n",
    "\n",
    "net = CLTRModel(data.num_features, width=20)\n",
    "print(net)"
   ]
  },
  {
   "cell_type": "markdown",
   "metadata": {},
   "source": [
    "---\n",
    "\n",
    "## Section 2: ListNet <a class=\"anchor\" id=\"listnet\"></a>\n",
    "\n",
    "In the previous chapter, you have implemented different loss functions for LTR.\n",
    "Here we use another well known listwise loss funtion, called `ListNet`, and will use it for our unbiased LTR model.\n",
    "The idea behind ListNet is very simple:\n",
    "To solve the discontinuity issue of NDCG, in **ListNet**, the loss function is based on probability distribution on permutations.\n",
    "\n",
    "Define a family of distributions on permutation of scores $z$, $P_z(\\pi)$, s.t. $\\sum_{\\pi\\in\\Omega} P_z(\\pi)=1$, where $\\Omega$ is the set of all $n!$ permutations.\n",
    "Ideally, we want the scores of our LTR model lead to the same permutation distribution as the labels $y$, i.e.,\n",
    "\n",
    "$$\n",
    "\\min KL(P_y,P_z)=-\\sum_{\\pi\\in\\Omega} P_y(\\pi) \\log P_z(\\pi)\n",
    "$$\n",
    "\n",
    "Plackett-Luce distribution gives a general formula for calculating the permutation distribution:\n",
    "\n",
    "$$\n",
    "P_z(\\pi) = \\prod_{j=1}^{n} \\frac{\\exp(z_{\\pi(j)})}{\\sum_{k=j}^{n} \\exp(z_{\\pi(k)})}\n",
    "$$\n",
    "In ListNet, instead of calculating $n!$ permutation probabilities, the top one probability of each document is calculated:\n",
    "\n",
    "$$\n",
    "P_z(j) = \\sum_{\\pi(1)=j, \\pi\\in\\Omega} P_z(\\pi) = \\frac{\\exp(z_{j})}{\\sum_{k=1}^{n} \\exp(z_{k})},\n",
    "$$\n",
    "which is the softmax function.\n",
    "\n",
    "Then, the loss is defined as follows:\n",
    "\n",
    "$$\n",
    "\\mathcal{L}_{\\text{ListNet}}=-\\sum_{j=1}^{n} P_y(j) \\log P_z(j),\n",
    "$$\n",
    "where the softmax function is used to calculate $P_y(j)$ and $P_z(j)$ from the labels and predictions, respectively."
   ]
  },
  {
   "cell_type": "markdown",
   "metadata": {},
   "source": [
    "### ListNet loss function\n",
    "\n",
    "ToDo: Implement the ListNet loss function."
   ]
  },
  {
   "cell_type": "code",
   "execution_count": 32,
   "metadata": {},
   "outputs": [
    {
     "name": "stdout",
     "output_type": "stream",
     "text": [
      "torch.Size([1, 20, 15]) torch.Size([1, 20]) torch.Size([1, 20])\n",
      "torch.Size([1, 20, 1]) torch.Size([1, 20])\n",
      "tensor(10.0135, grad_fn=<NegBackward0>)\n"
     ]
    }
   ],
   "source": [
    "from ltr.loss import listNet_loss\n",
    "\n",
    "biased_net = CLTRModel(data.num_features, width=20)\n",
    "\n",
    "for features, clicks, positions in train_dl:\n",
    "    print(features.shape, clicks.shape, positions.shape)\n",
    "    output = biased_net(features)\n",
    "    print(output.shape, clicks.shape)\n",
    "    loss = listNet_loss(output, clicks)\n",
    "    print(loss)\n",
    "    break"
   ]
  },
  {
   "cell_type": "markdown",
   "metadata": {},
   "source": [
    "### Biased ListNet training\n",
    "Now use `listNet_loss` to train an LTR model. Since we use `clicks` instead of `relevance`, and do not correct for the bias, this would be a biased model."
   ]
  },
  {
   "cell_type": "code",
   "execution_count": 41,
   "metadata": {},
   "outputs": [
    {
     "name": "stderr",
     "output_type": "stream",
     "text": [
      "                                                         \r"
     ]
    },
    {
     "data": {
      "text/plain": [
       "{'metrics_val': [{'dcg': (6.177935840136608, 8.817776555471838),\n",
       "   'dcg@03': (0.775512079285723, 3.190593048151397),\n",
       "   'dcg@05': (0.8602601936934877, 3.3235446109144617),\n",
       "   'dcg@10': (1.0498165554045191, 3.4413843714109014),\n",
       "   'dcg@20': (1.4553173835005695, 4.066511174811878),\n",
       "   'ndcg': (0.22781267286977155, 0.13297215223724654),\n",
       "   'ndcg@03': (0.03373988485248879, 0.14325925543843315),\n",
       "   'ndcg@05': (0.033593408579482675, 0.13727796159941028),\n",
       "   'ndcg@10': (0.03762397359609167, 0.13395028964951247),\n",
       "   'ndcg@20': (0.04672914328220119, 0.13826045963393782),\n",
       "   'precision@01': (0.03296703296703297, 0.17855029460738375),\n",
       "   'precision@03': (0.023809523809523808, 0.11069606766491996),\n",
       "   'precision@05': (0.017582417582417582, 0.07927335734888542),\n",
       "   'precision@10': (0.013186813186813187, 0.043749514807460185),\n",
       "   'precision@20': (0.012637362637362636, 0.036004736099793135),\n",
       "   'recall@01': (0.016021478521478522, 0.11161088922266171),\n",
       "   'recall@03': (0.02572011322011322, 0.13650971468380116),\n",
       "   'recall@05': (0.029882617382617382, 0.14229396011760811),\n",
       "   'recall@10': (0.04669721304336689, 0.16919707430575462),\n",
       "   'recall@20': (0.07232236627841022, 0.21193156159892376),\n",
       "   'relevant rank': (73.17687074829932, 30.15019861253959),\n",
       "   'relevant rank per query': (177.3131868131868, 192.60081059977495)}]}"
      ]
     },
     "execution_count": 41,
     "metadata": {},
     "output_type": "execute_result"
    }
   ],
   "source": [
    "from ltr.train import train_biased_listNet\n",
    "\n",
    "params = Namespace(\n",
    "    epochs=1, lr=1e-4, batch_size=1, metrics={\"ndcg@10\", \"precision@10\", \"recall@10\"}, policy_path=\"./data/\")\n",
    "biased_net = CLTRModel(15, width=20)\n",
    "train_biased_listNet(biased_net, params, data)"
   ]
  },
  {
   "cell_type": "markdown",
   "metadata": {},
   "source": [
    "### Saving the results\n",
    "Since we randomly simulate clicks and use them to train our model, for the evaluation we train and save 10 different models and inspect the average and std over them.\n",
    "\n",
    "**IMPORTANT** Run the following cell to store your models and results. After it finishes, make sure to push the results to the git repo.\n",
    "\n",
    "_Estimated time on Codespaces_: 5m"
   ]
  },
  {
   "cell_type": "code",
   "execution_count": null,
   "metadata": {},
   "outputs": [
    {
     "name": "stdout",
     "output_type": "stream",
     "text": [
      "Training Model 0\n",
      "Training Model\n"
     ]
    },
    {
     "name": "stderr",
     "output_type": "stream",
     "text": [
      "                                                         \r"
     ]
    },
    {
     "name": "stdout",
     "output_type": "stream",
     "text": [
      "\t\"recall@10\": (0.8277385096525671, 0.31308906071163356)\n",
      "\t\"precision@10\": (0.1581291759465479, 0.13342188649035014)\n",
      "\t\"ndcg@10\": (0.7192437239751251, 0.31404559145918054)\n",
      "Training Model 1\n",
      "Training Model\n"
     ]
    },
    {
     "name": "stderr",
     "output_type": "stream",
     "text": [
      "                                                         \r"
     ]
    },
    {
     "name": "stdout",
     "output_type": "stream",
     "text": [
      "\t\"recall@10\": (0.7299803188935903, 0.3791904183056864)\n",
      "\t\"precision@10\": (0.1380846325167038, 0.12269026662007847)\n",
      "\t\"ndcg@10\": (0.6271967746152276, 0.35426662049903207)\n",
      "Training Model 2\n",
      "Training Model\n"
     ]
    },
    {
     "name": "stderr",
     "output_type": "stream",
     "text": [
      "                                                         \r"
     ]
    },
    {
     "name": "stdout",
     "output_type": "stream",
     "text": [
      "\t\"recall@10\": (0.7827531930636871, 0.35069954920588026)\n",
      "\t\"precision@10\": (0.14387527839643655, 0.12383674337700892)\n",
      "\t\"ndcg@10\": (0.6476410476768849, 0.3373466397306369)\n",
      "Training Model 3\n",
      "Training Model\n"
     ]
    },
    {
     "name": "stderr",
     "output_type": "stream",
     "text": [
      "                                                         \r"
     ]
    },
    {
     "name": "stdout",
     "output_type": "stream",
     "text": [
      "\t\"recall@10\": (0.7890905951989405, 0.34758418186814777)\n",
      "\t\"precision@10\": (0.14788418708240536, 0.12593074401800036)\n",
      "\t\"ndcg@10\": (0.6585881941720401, 0.33676182027458496)\n",
      "Training Model 4\n",
      "Training Model\n"
     ]
    },
    {
     "name": "stderr",
     "output_type": "stream",
     "text": [
      "                                                         \r"
     ]
    },
    {
     "name": "stdout",
     "output_type": "stream",
     "text": [
      "\t\"recall@10\": (0.807349705551592, 0.3326694817167059)\n",
      "\t\"precision@10\": (0.15478841870824056, 0.13606140448396764)\n",
      "\t\"ndcg@10\": (0.6810832917296198, 0.331285185371032)\n",
      "Training Model 5\n",
      "Training Model\n"
     ]
    },
    {
     "name": "stderr",
     "output_type": "stream",
     "text": [
      "                                                         \r"
     ]
    },
    {
     "name": "stdout",
     "output_type": "stream",
     "text": [
      "\t\"recall@10\": (0.8137068264573831, 0.32928797359043555)\n",
      "\t\"precision@10\": (0.1534521158129176, 0.13428976100955875)\n",
      "\t\"ndcg@10\": (0.7127823965418094, 0.3218888254528758)\n",
      "Training Model 6\n",
      "Training Model\n"
     ]
    },
    {
     "name": "stderr",
     "output_type": "stream",
     "text": [
      "                                                         \r"
     ]
    },
    {
     "name": "stdout",
     "output_type": "stream",
     "text": [
      "\t\"recall@10\": (0.7324056854975235, 0.3807080509383828)\n",
      "\t\"precision@10\": (0.13986636971046773, 0.1279997910474929)\n",
      "\t\"ndcg@10\": (0.6201717744561991, 0.35369994014619427)\n",
      "Training Model 7\n",
      "Training Model\n"
     ]
    },
    {
     "name": "stderr",
     "output_type": "stream",
     "text": [
      "                                                         \r"
     ]
    },
    {
     "name": "stdout",
     "output_type": "stream",
     "text": [
      "\t\"recall@10\": (0.6911978729743697, 0.39457889320945033)\n",
      "\t\"precision@10\": (0.13073496659242761, 0.1187899032572528)\n",
      "\t\"ndcg@10\": (0.5839822360199475, 0.3631365262245174)\n",
      "Training Model 8\n",
      "Training Model\n"
     ]
    },
    {
     "name": "stderr",
     "output_type": "stream",
     "text": [
      "                                                         \r"
     ]
    },
    {
     "name": "stdout",
     "output_type": "stream",
     "text": [
      "\t\"recall@10\": (0.7914283483522315, 0.3470311076028338)\n",
      "\t\"precision@10\": (0.1516703786191537, 0.13299067415464175)\n",
      "\t\"ndcg@10\": (0.7036241518323983, 0.3332385076204529)\n",
      "Training Model 9\n",
      "Training Model\n"
     ]
    },
    {
     "name": "stderr",
     "output_type": "stream",
     "text": [
      "                                                         "
     ]
    },
    {
     "name": "stdout",
     "output_type": "stream",
     "text": [
      "\t\"recall@10\": (0.7536017703710616, 0.36782219602472965)\n",
      "\t\"precision@10\": (0.14587973273942098, 0.13377238176753564)\n",
      "\t\"ndcg@10\": (0.6251468840131037, 0.3462347651718671)\n"
     ]
    },
    {
     "name": "stderr",
     "output_type": "stream",
     "text": [
      "\r"
     ]
    }
   ],
   "source": [
    "from ltr.utils import create_results\n",
    "from ltr.train import train_biased_listNet\n",
    "\n",
    "seed(42)\n",
    "params = Namespace(\n",
    "    epochs=20, lr=1e-4, batch_size=1, metrics={\"ndcg@10\", \"precision@10\", \"recall@10\"},  policy_path=\"./data/\")\n",
    "\n",
    "\n",
    "for i in range(10):\n",
    "    print(\"Training Model\", i)\n",
    "    biased_net = CLTRModel(15, width=20)\n",
    "    create_results(\n",
    "        data,\n",
    "        biased_net,\n",
    "        train_biased_listNet,\n",
    "        biased_net,\n",
    "        f\"./outputs/biased_listNet_{i}.json\",\n",
    "        params,\n",
    "    )\n",
    "\n",
    "    torch.save(biased_net.state_dict(), f\"./outputs/biased_listNet_{i}\")"
   ]
  },
  {
   "cell_type": "markdown",
   "metadata": {},
   "source": [
    "---\n",
    "\n",
    "## Section 3: Unbiased ListNet <a class=\"anchor\" id=\"unbiased_listnet\"></a>\n",
    "\n",
    "### Unbiased ListNet loss function\n",
    "\n",
    "Now, we use IPS to have an unbiased ListNet:"
   ]
  },
  {
   "cell_type": "code",
   "execution_count": 35,
   "metadata": {},
   "outputs": [
    {
     "name": "stdout",
     "output_type": "stream",
     "text": [
      "torch.Size([1, 20, 15]) torch.Size([1, 20]) torch.Size([1, 20])\n",
      "torch.Size([1, 20, 1]) torch.Size([1, 20])\n",
      "tensor(3.0282, grad_fn=<NegBackward0>)\n"
     ]
    }
   ],
   "source": [
    "from ltr.loss import unbiased_listNet_loss\n",
    "\n",
    "unbiased_net = CLTRModel(data.num_features, width=20)\n",
    "propensity = logging_policy.propensity\n",
    "\n",
    "for features, clicks, positions in train_dl:\n",
    "    print(features.shape, clicks.shape, positions.shape)\n",
    "    output = biased_net(features)\n",
    "    print(output.shape, clicks.shape)\n",
    "    loss = unbiased_listNet_loss(output, clicks, propensity[positions.data.numpy()])\n",
    "    print(loss)\n",
    "    break"
   ]
  },
  {
   "cell_type": "markdown",
   "metadata": {},
   "source": [
    "### Unbiased ListNet training\n",
    "Now use `unbiased_listNet_loss` to train an LTR model."
   ]
  },
  {
   "cell_type": "code",
   "execution_count": null,
   "metadata": {},
   "outputs": [
    {
     "name": "stderr",
     "output_type": "stream",
     "text": [
      "                                                         \r"
     ]
    },
    {
     "data": {
      "text/plain": [
       "{'metrics_val': [{'dcg': (12.39036514226793, 11.350006374138426),\n",
       "   'dcg@03': (6.531513565476253, 7.706237794770848),\n",
       "   'dcg@05': (7.635672387694692, 8.210064599041827),\n",
       "   'dcg@10': (8.933535472692903, 8.506451717780575),\n",
       "   'dcg@20': (9.914342743215181, 9.190974270279956),\n",
       "   'ndcg': (0.5480661727924453, 0.2770086387401595),\n",
       "   'ndcg@03': (0.35892467850857757, 0.38913753675496193),\n",
       "   'ndcg@05': (0.3943045075523414, 0.3753273439655426),\n",
       "   'ndcg@10': (0.445077788272207, 0.3458728145449992),\n",
       "   'ndcg@20': (0.4732928835146001, 0.3293938751781392),\n",
       "   'precision@01': (0.3241758241758242, 0.46806608421861684),\n",
       "   'precision@03': (0.20512820512820515, 0.2358018599184041),\n",
       "   'precision@05': (0.16263736263736261, 0.1688020829830543),\n",
       "   'precision@10': (0.11373626373626373, 0.10523806973858876),\n",
       "   'precision@20': (0.07115384615384616, 0.07434910569854981),\n",
       "   'recall@01': (0.21039377289377287, 0.36005309354148507),\n",
       "   'recall@03': (0.37362637362637363, 0.4306973994612952),\n",
       "   'recall@05': (0.4660843735019559, 0.4425838582638254),\n",
       "   'recall@10': (0.6187733511909336, 0.4185133559180124),\n",
       "   'recall@20': (0.7042257193356093, 0.38339578154044135),\n",
       "   'relevant rank': (26.839002267573697, 29.11707422978728),\n",
       "   'relevant rank per query': (65.03296703296704, 141.76252783366317)}]}"
      ]
     },
     "execution_count": 36,
     "metadata": {},
     "output_type": "execute_result"
    }
   ],
   "source": [
    "from ltr.train import train_unbiased_listNet\n",
    "\n",
    "params = Namespace(\n",
    "    epochs=1,\n",
    "    lr=1e-4,\n",
    "    batch_size=1,\n",
    "    propensity=logging_policy.propensity,\n",
    "    metrics={\"ndcg@10\", \"precision@10\", \"recall@10\"}, policy_path=\"./data/\")\n",
    "\n",
    "biased_net = CLTRModel(15, width=20)\n",
    "train_unbiased_listNet(biased_net, params, data)"
   ]
  },
  {
   "cell_type": "markdown",
   "metadata": {},
   "source": [
    "### Saving the results\n",
    "Similar to the biased model, here we train 10 different unbiased models and save them to inspect the average and std over them.\n",
    "\n",
    "**IMPORTANT** Run the following cell to store your models and results. After it finishes, make sure to push the results to the git repo.\n",
    "\n",
    "_Estimated time on Codespaces_: 5m"
   ]
  },
  {
   "cell_type": "code",
   "execution_count": null,
   "metadata": {},
   "outputs": [
    {
     "name": "stdout",
     "output_type": "stream",
     "text": [
      "Training Model 0\n",
      "Training Model\n"
     ]
    },
    {
     "name": "stderr",
     "output_type": "stream",
     "text": [
      "                                                         \r"
     ]
    },
    {
     "name": "stdout",
     "output_type": "stream",
     "text": [
      "\t\"recall@10\": (0.8315546841617848, 0.3104048667396324)\n",
      "\t\"precision@10\": (0.15879732739420938, 0.13553285548126762)\n",
      "\t\"ndcg@10\": (0.7399982265990026, 0.3128432443615283)\n",
      "Training Model 1\n",
      "Training Model\n"
     ]
    },
    {
     "name": "stderr",
     "output_type": "stream",
     "text": [
      "                                                         \r"
     ]
    },
    {
     "name": "stdout",
     "output_type": "stream",
     "text": [
      "\t\"recall@10\": (0.8268369816712539, 0.31231338765841843)\n",
      "\t\"precision@10\": (0.15991091314031183, 0.14156614008649104)\n",
      "\t\"ndcg@10\": (0.7458618094893363, 0.309018397427934)\n",
      "Training Model 2\n",
      "Training Model\n"
     ]
    },
    {
     "name": "stderr",
     "output_type": "stream",
     "text": [
      "                                                         \r"
     ]
    },
    {
     "name": "stdout",
     "output_type": "stream",
     "text": [
      "\t\"recall@10\": (0.8366937853476568, 0.30218603508263464)\n",
      "\t\"precision@10\": (0.1605790645879733, 0.1349110854863242)\n",
      "\t\"ndcg@10\": (0.7463643315824567, 0.3079493069916341)\n",
      "Training Model 3\n",
      "Training Model\n"
     ]
    },
    {
     "name": "stderr",
     "output_type": "stream",
     "text": [
      "                                                         \r"
     ]
    },
    {
     "name": "stdout",
     "output_type": "stream",
     "text": [
      "\t\"recall@10\": (0.8391088393970616, 0.298756641665485)\n",
      "\t\"precision@10\": (0.1616926503340758, 0.13547831281129913)\n",
      "\t\"ndcg@10\": (0.7471539815607611, 0.30520497053252005)\n",
      "Training Model 4\n",
      "Training Model\n"
     ]
    },
    {
     "name": "stderr",
     "output_type": "stream",
     "text": [
      "                                                         \r"
     ]
    },
    {
     "name": "stdout",
     "output_type": "stream",
     "text": [
      "\t\"recall@10\": (0.8094301105535221, 0.3330566252097007)\n",
      "\t\"precision@10\": (0.1556792873051225, 0.13716845281802167)\n",
      "\t\"ndcg@10\": (0.728056870861878, 0.32104835560858247)\n",
      "Training Model 5\n",
      "Training Model\n"
     ]
    },
    {
     "name": "stderr",
     "output_type": "stream",
     "text": [
      "                                                         \r"
     ]
    },
    {
     "name": "stdout",
     "output_type": "stream",
     "text": [
      "\t\"recall@10\": (0.8380735325056038, 0.3035522413643414)\n",
      "\t\"precision@10\": (0.1610244988864143, 0.1400598721046445)\n",
      "\t\"ndcg@10\": (0.7531950067539848, 0.3074470869689236)\n",
      "Training Model 6\n",
      "Training Model\n"
     ]
    },
    {
     "name": "stderr",
     "output_type": "stream",
     "text": [
      "                                                         \r"
     ]
    },
    {
     "name": "stdout",
     "output_type": "stream",
     "text": [
      "\t\"recall@10\": (0.8278623028426514, 0.3089895322028741)\n",
      "\t\"precision@10\": (0.15924276169265036, 0.13939211439941038)\n",
      "\t\"ndcg@10\": (0.7311646794150524, 0.3131490474975137)\n",
      "Training Model 7\n",
      "Training Model\n"
     ]
    },
    {
     "name": "stderr",
     "output_type": "stream",
     "text": [
      "                                                         \r"
     ]
    },
    {
     "name": "stdout",
     "output_type": "stream",
     "text": [
      "\t\"recall@10\": (0.8324128380462718, 0.31098511486329716)\n",
      "\t\"precision@10\": (0.15857461024498887, 0.13052479093264494)\n",
      "\t\"ndcg@10\": (0.6932387170964474, 0.3144652997981255)\n",
      "Training Model 8\n",
      "Training Model\n"
     ]
    },
    {
     "name": "stderr",
     "output_type": "stream",
     "text": [
      "                                                         \r"
     ]
    },
    {
     "name": "stdout",
     "output_type": "stream",
     "text": [
      "\t\"recall@10\": (0.8410973624683831, 0.3032855720051374)\n",
      "\t\"precision@10\": (0.1625835189309577, 0.13945010617223588)\n",
      "\t\"ndcg@10\": (0.7535871507866274, 0.30505559012573286)\n",
      "Training Model 9\n",
      "Training Model\n"
     ]
    },
    {
     "name": "stderr",
     "output_type": "stream",
     "text": [
      "                                                         "
     ]
    },
    {
     "name": "stdout",
     "output_type": "stream",
     "text": [
      "\t\"recall@10\": (0.8257416179465178, 0.31657864367429484)\n",
      "\t\"precision@10\": (0.1610244988864143, 0.13990076605982282)\n",
      "\t\"ndcg@10\": (0.7406974021721144, 0.3157070152148505)\n"
     ]
    },
    {
     "name": "stderr",
     "output_type": "stream",
     "text": [
      "\r"
     ]
    }
   ],
   "source": [
    "from ltr.utils import create_results\n",
    "from ltr.train import train_unbiased_listNet\n",
    "\n",
    "seed(42)\n",
    "params = Namespace(\n",
    "    epochs=20,\n",
    "    lr=1e-4,\n",
    "    batch_size=1,\n",
    "    propensity=logging_policy.propensity,\n",
    "    metrics={\"ndcg@10\", \"precision@10\", \"recall@10\"}, policy_path=\"./data/\")\n",
    "\n",
    "for i in range(10):\n",
    "    print(\"Training Model\", i)\n",
    "    unbiased_net = CLTRModel(15, width=20)\n",
    "    create_results(\n",
    "        data,\n",
    "        unbiased_net,\n",
    "        train_unbiased_listNet,\n",
    "        unbiased_net,\n",
    "        f\"./outputs/unbiased_listNet_{i}.json\",\n",
    "        params,\n",
    "    )\n",
    "\n",
    "    torch.save(unbiased_net.state_dict(), f\"./outputs/unbiased_listNet_{i}\")"
   ]
  },
  {
   "cell_type": "code",
   "execution_count": 38,
   "metadata": {},
   "outputs": [
    {
     "name": "stdout",
     "output_type": "stream",
     "text": [
      "           ndcg  ndcg@20  precision@05  recall@20\n",
      "biased    0.727    0.683         0.239      0.853\n",
      "unbiased  0.793    0.760         0.264      0.902\n"
     ]
    }
   ],
   "source": [
    "import json\n",
    "import numpy as np\n",
    "\n",
    "def aggregate_results(model_name):\n",
    "    aggregated_metrics = {}\n",
    "    for i in range(10):\n",
    "        with open(f\"./outputs/{model_name}_{i}.json\", \"r\") as reader:\n",
    "            result = json.load(reader)\n",
    "            for metric, (v, std) in result['test_metrics'].items():\n",
    "                aggregated_metrics.setdefault(metric, []).append(v)\n",
    "    return {metric: np.mean(vals) for metric, vals in aggregated_metrics.items()}\n",
    "\n",
    "biased = aggregate_results('biased_listNet')\n",
    "unbiased = aggregate_results('unbiased_listNet')\n",
    "# save the aggregated output files\n",
    "for model_avg_results, model_name in zip([biased, unbiased], [\"biased_listNet\", \"unbiased_listNet\"]):\n",
    "    json.dump(model_avg_results, open(f\"outputs/{model_name}_avg.json\", \"wt\"))\n",
    "\n",
    "# display a handful of metrics\n",
    "print_metrics = [\"ndcg\", \"ndcg@20\", \"precision@05\", \"recall@20\"]\n",
    "print_biased = {metric: v for metric, v in biased.items() if metric in print_metrics}\n",
    "print_unbiased = {metric: v for metric, v in unbiased.items() if metric in print_metrics}\n",
    "\n",
    "import pandas as pd\n",
    "\n",
    "pd.set_option(\"display.precision\", 3)\n",
    "df = pd.DataFrame([print_biased, print_unbiased], index=[\"biased\", \"unbiased\"])\n",
    "print(df)"
   ]
  }
 ],
 "metadata": {
  "celltoolbar": "Create Assignment",
  "kernelspec": {
   "display_name": "ir_assignment3",
   "language": "python",
   "name": "python3"
  },
  "language_info": {
   "codemirror_mode": {
    "name": "ipython",
    "version": 3
   },
   "file_extension": ".py",
   "mimetype": "text/x-python",
   "name": "python",
   "nbconvert_exporter": "python",
   "pygments_lexer": "ipython3",
   "version": "3.10.16"
  },
  "toc": {
   "base_numbering": "",
   "nav_menu": {},
   "number_sections": false,
   "sideBar": true,
   "skip_h1_title": false,
   "title_cell": "Table of Contents",
   "title_sidebar": "Contents",
   "toc_cell": false,
   "toc_position": {
    "height": "calc(100% - 180px)",
    "left": "10px",
    "top": "150px",
    "width": "280px"
   },
   "toc_section_display": true,
   "toc_window_display": true
  }
 },
 "nbformat": 4,
 "nbformat_minor": 4
}
